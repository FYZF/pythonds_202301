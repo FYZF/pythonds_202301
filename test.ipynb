{
 "cells": [
  {
   "cell_type": "code",
   "execution_count": 6,
   "metadata": {},
   "outputs": [],
   "source": [
    "import json\n",
    "\n",
    "# Read the JSON file\n",
    "with open('cookies.json', 'r') as f:\n",
    "    cookies = json.load(f)\n",
    "\n",
    "# Write cookies to a text file\n",
    "with open('cookies.txt', 'w') as f:\n",
    "    for cookie in cookies:\n",
    "        ##\"secure\": true, path , \"session\": false , expirationDate, name, value\n",
    "        f.write(f\"{cookie.get('domain', '')}\\t{cookie.get('secure', '')}\\t{cookie.get('path', '')}\\t{cookie.get('httpOnly', '')}\\t{cookie.get('expirationDate', '')}\\t{cookie['name']}\\t{cookie['value']}\\n\")\n"
   ]
  }
 ],
 "metadata": {
  "kernelspec": {
   "display_name": "Python 3",
   "language": "python",
   "name": "python3"
  },
  "language_info": {
   "codemirror_mode": {
    "name": "ipython",
    "version": 3
   },
   "file_extension": ".py",
   "mimetype": "text/x-python",
   "name": "python",
   "nbconvert_exporter": "python",
   "pygments_lexer": "ipython3",
   "version": "3.10.8"
  },
  "orig_nbformat": 4,
  "vscode": {
   "interpreter": {
    "hash": "69011eff3314b354f42a2ba40b1ddc2bfa3dd9877deb2573d0d9019d6ff40d2a"
   }
  }
 },
 "nbformat": 4,
 "nbformat_minor": 2
}
