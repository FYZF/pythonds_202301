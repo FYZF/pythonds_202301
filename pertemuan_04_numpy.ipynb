{
 "cells": [
  {
   "attachments": {},
   "cell_type": "markdown",
   "metadata": {},
   "source": [
    "# Hacktiv8-PTP Python For Data Science // S.4 // Numpy"
   ]
  },
  {
   "attachments": {},
   "cell_type": "markdown",
   "metadata": {},
   "source": [
    "Numpy Intro \n",
    "    How to import NumPy\n",
    "    Why use NumPy?\n",
    "    Terminology\n",
    "    What is an array?\n",
    "    What are the attributes of an array?\n",
    "    What’s the difference between a Python list and a NumPy array?\n",
    "    \n",
    "         1. NumPy Initialization \n",
    "         2. Creating Ndarrays in NumPy\n",
    "         3. Add, Remove, and Sort\n",
    "         4. Multi-Dimensional Arrays\n",
    "         5. ndim , shape and size\n",
    "         6. Sorting Array\n",
    "         7. Reshape\n",
    "         8. Convert 1D to 2D\n",
    "         9. Indexing and Slicing\n",
    "         10. Creating Array from Existing Data  \n",
    "         11. Copying\n",
    "         12. Basic array Operation\n",
    "         13. Broadcasting \n",
    "         14. More Array Operations\n",
    "         15. Save Array into file\n",
    "         16. Latihan Studi Kasus x\n",
    "         17. Matrices \n",
    "               Create Matrices \n",
    "               Matrix Aritmetic \n",
    "               Dot Product \n",
    "               Matrix Indexing \n",
    "               Matrix Aggregation \n",
    "               Transposing and Reshaping \n",
    "               N-Dimensional Array \n",
    "               Flatten N-Dimensional Array \n",
    "         Working with math Formulas "
   ]
  },
  {
   "attachments": {},
   "cell_type": "markdown",
   "metadata": {},
   "source": [
    "## Numpy Introduction\n",
    "\n",
    "    NumPy (Python Numerik) adalah ekstensi open source dari Python Numerical komputasi. \n",
    "    Alat ini dapat digunakan untuk menyimpan dan memproses matriks besar. \n",
    "    Numpy jauh lebih efisien daripada struktur nested list Python sendiri. \n",
    "    Ini mendukung operasi array dan matriks beberapa dimensi. \n",
    "    Selain itu juga menyediakan sejumlah besar perpustakaan matematika untuk operasi array \n",
    "    Dan digunakan di hampir setiap bidang sains dan teknik. \n",
    "    \n",
    "    NumPy dari tahun 2005 dan membentuk semacam kode sumber terbuka dan dipelihara \n",
    "    dan dikembangkan oleh banyak kolaborator bersama-sama.\n",
    "\n",
    "    NumPy API digunakan secara luas di Pandas, SciPy, Matplotlib, scikit-learn, scikit-image \n",
    "    dan sebagian besar paket ilmu data dan Python ilmiah lainnya.\n",
    "\n",
    "    Pustaka NumPy berisi array multidimensi dan struktur data matriks (Anda akan menemukan informasi lebih \n",
    "    lanjut tentang ini di bagian selanjutnya). Ini menyediakan ndarray, objek array n-dimensi homogen, \n",
    "    dengan metode untuk beroperasi secara efisien di atasnya. NumPy dapat digunakan untuk melakukan \n",
    "    berbagai macam operasi matematika pada array. Itu menambahkan struktur data yang kuat ke Python \n",
    "    yang menjamin perhitungan yang efisien dengan array dan matriks dan itu memasok perpustakaan \n",
    "    besar fungsi matematika tingkat tinggi yang beroperasi pada array dan matriks ini."
   ]
  },
  {
   "attachments": {},
   "cell_type": "markdown",
   "metadata": {},
   "source": [
    "\n",
    "<img src=\"https://i.ibb.co/HK3pbdm/numpy-base.webp\" align=\"center\">\n",
    "\n",
    "<br>\n",
    "\n",
    "sumber : Harris, C.R., Millman, K.J., van der Walt, S.J. et al. Array programming with NumPy. Nature 585, 357–362 (2020). https://doi.org/10.1038/s41586-020-2649-2 \n"
   ]
  },
  {
   "attachments": {},
   "cell_type": "markdown",
   "metadata": {},
   "source": [
    "#### Installing NumPy\n",
    "\n",
    "If you already have Python, you can install NumPy with:\n",
    "\n",
    "conda install numpy\n",
    "\n",
    "or\n",
    "\n",
    "pip install numpy\n",
    "\n",
    "\n",
    "!pip install numpy "
   ]
  },
  {
   "attachments": {},
   "cell_type": "markdown",
   "metadata": {},
   "source": [
    "#### How to import NumPy\n",
    "\n",
    "Setiap kali Anda ingin menggunakan paket atau pustaka dalam kode Anda, Anda harus membuatnya dapat diakses terlebih dahulu.\n",
    "\n",
    "Untuk mulai menggunakan NumPy dan semua fungsi yang tersedia di NumPy, Anda harus mengimpornya. Ini dapat dengan mudah dilakukan dengan pernyataan impor ini:\n",
    "\n",
    "import numpy as np\n",
    "\n",
    "(Kami mempersingkat \"numpy\" menjadi \"np\" untuk menghemat waktu dan juga untuk menjaga standarisasi kode sehingga siapa pun yang bekerja dengan kode Anda dapat dengan mudah memahami dan menjalankannya.)"
   ]
  },
  {
   "attachments": {},
   "cell_type": "markdown",
   "metadata": {},
   "source": [
    "#### Why use NumPy?\n",
    "\n",
    "    Array NumPy lebih cepat dan lebih ringkas daripada list Python. Sebuah array mengkonsumsi lebih \n",
    "    sedikit memori dan jauh lebih nyaman untuk digunakan. NumPy menggunakan lebih sedikit memori \n",
    "    untuk menyimpan data dan menyediakan mekanisme untuk menentukan tipe data, \n",
    "    yang memungkinkan kode untuk dioptimalkan lebih jauh.\n",
    "    \n",
    "    Numpy adalah library aljabar linear untuk python "
   ]
  },
  {
   "cell_type": "code",
   "execution_count": null,
   "metadata": {},
   "outputs": [],
   "source": [
    "# pengetesan list dengan numpy "
   ]
  },
  {
   "cell_type": "code",
   "execution_count": null,
   "metadata": {},
   "outputs": [],
   "source": []
  },
  {
   "attachments": {},
   "cell_type": "markdown",
   "metadata": {},
   "source": [
    "#### Terminology\n",
    "   ##### What is an array?\n",
    "    \n",
    "       Array adalah struktur data pusat dari library NumPy. Ini adalah kisi nilai dan berisi informasi tentang data mentah, cara menemukan elemen, dan cara menafsirkan elemen. Ini memiliki kisi elemen yang dapat diindeks \n",
    "       dengan berbagai cara. Semua elemen memiliki tipe yang sama, disebut sebagai tipe array d (tipe data).\n",
    "    \n",
    "    Array dapat diindeks oleh tupel bilangan bulat non-negatif, dengan boolean, oleh array lain, atau dengan bilangan bulat. Rank dari array adalah jumlah dimensi. Bentuk array adalah tupel bilangan bulat yang memberikan ukuran array sepanjang setiap dimensi.\n",
    "\n",
    "    Salah satu cara kita dapat menginisialisasi array NumPy adalah dari daftar Python bersarang.\n",
    "\n",
    "    a = np.array([[1 , 2, 3, 4], [5, 6, 7, 8], [9, 10, 11, 12]])\n",
    "\n",
    "    Kita dapat mengakses elemen dalam array menggunakan tanda kurung siku. Saat Anda mengakses elemen, ingatlah bahwa pengindeksan di NumPy dimulai dari 0. Artinya, jika Anda ingin mengakses elemen pertama dalam array, Anda akan mengakses elemen “0”.\n",
    "\n",
    "        print(a[0])\n",
    "\n",
    "    Keluaran:\n",
    "\n",
    "        [1 2 3 4]\n",
    "\n",
    "    Informasi lebih lanjut tentang array\n",
    "\n",
    "    array 1D, array 2D, ndarray, vektor, matriks\n",
    "\n",
    "    Anda mungkin kadang-kadang mendengar array yang disebut sebagai \"ndarray,\" yang merupakan singkatan dari \n",
    "    \"array N-dimensi.\" Array N-dimensi hanyalah sebuah array dengan sejumlah dimensi. Anda mungkin juga \n",
    "    mendengar 1-D, atau array satu dimensi, 2-D, atau larik dua dimensi, dan seterusnya. \n",
    "    \n",
    "    \n",
    "    * Kelas NumPy ndarray digunakan untuk mewakili matriks dan vektor. \n",
    "    * Vektor adalah array dengan satu kolom. \n",
    "    * sedangkan matriks  mengacu pada array dengan banyak kolom."
   ]
  },
  {
   "attachments": {},
   "cell_type": "markdown",
   "metadata": {},
   "source": [
    "#### What are the attributes of an array?\n",
    "\n",
    "     Array biasanya merupakan wadah berukuran tetap dari item dengan jenis \n",
    "     dan ukuran yang sama. Jumlah dimensi dan item dalam array ditentukan oleh bentuknya. \n",
    "     Bentuk array adalah tupel bilangan bulat non-negatif yang menentukan \n",
    "     ukuran setiap dimensi.\n",
    "\n",
    "    Di NumPy, dimensi disebut sumbu. Ini berarti jika Anda memiliki array 2D yang terlihat seperti ini:\n",
    "\n",
    "[[0., 0., 0.],\n",
    "  [1., 1., 1.]]\n",
    "\n",
    "    Array Anda memiliki 2 sumbu. Sumbu pertama memiliki panjang 2 dan sumbu kedua memiliki panjang 3.\n",
    "\n",
    "    Sama seperti objek kontainer Python lainnya, isi array dapat diakses dan dimodifikasi dengan mengindeks atau mengiris array. Array yang berbeda dapat berbagi data yang sama, sehingga perubahan yang dibuat pada satu array mungkin terlihat di array lain.\n",
    "\n",
    "    Atribut array mencerminkan informasi intrinsik ke array itu sendiri. Jika Anda perlu mendapatkan, atau bahkan mengatur, properti array tanpa membuat array baru, Anda sering dapat mengakses array melalui atributnya.\n",
    "\n"
   ]
  },
  {
   "attachments": {},
   "cell_type": "markdown",
   "metadata": {},
   "source": [
    "##### What’s the difference between a Python list and a NumPy array?\n",
    "\n",
    "       NumPy memberi Anda sejumlah besar opsi terkait numerik yang cepat dan efisien. \n",
    "       Meskipun list Python dapat berisi tipe data yang berbeda dalam satu list, \n",
    "       semua elemen dalam array NumPy harus tipe data yang sama (Jika int harus integer , \n",
    "       jika string maka harus string semua data). \n",
    "       Operasi matematika yang dimaksudkan untuk dilakukan pada array \n",
    "       tidak akan mungkin jika array tidak homogen."
   ]
  },
  {
   "attachments": {},
   "cell_type": "markdown",
   "metadata": {},
   "source": [
    "### NumPy Basic\n",
    "\n",
    "#### Numpy Initialization"
   ]
  },
  {
   "cell_type": "code",
   "execution_count": 2,
   "metadata": {},
   "outputs": [
    {
     "name": "stdout",
     "output_type": "stream",
     "text": [
      "\u001b[33mDEPRECATION: Configuring installation scheme with distutils config files is deprecated and will no longer work in the near future. If you are using a Homebrew or Linuxbrew Python, please see discussion at https://github.com/Homebrew/homebrew-core/issues/76621\u001b[0m\u001b[33m\n",
      "\u001b[0mRequirement already satisfied: numpy in /usr/local/lib/python3.9/site-packages (1.21.2)\n",
      "\u001b[33mDEPRECATION: Configuring installation scheme with distutils config files is deprecated and will no longer work in the near future. If you are using a Homebrew or Linuxbrew Python, please see discussion at https://github.com/Homebrew/homebrew-core/issues/76621\u001b[0m\u001b[33m\n",
      "\u001b[0m\n",
      "\u001b[1m[\u001b[0m\u001b[34;49mnotice\u001b[0m\u001b[1;39;49m]\u001b[0m\u001b[39;49m A new release of pip available: \u001b[0m\u001b[31;49m22.3.1\u001b[0m\u001b[39;49m -> \u001b[0m\u001b[32;49m23.0\u001b[0m\n",
      "\u001b[1m[\u001b[0m\u001b[34;49mnotice\u001b[0m\u001b[1;39;49m]\u001b[0m\u001b[39;49m To update, run: \u001b[0m\u001b[32;49mpython3.9 -m pip install --upgrade pip\u001b[0m\n",
      "Note: you may need to restart the kernel to use updated packages.\n"
     ]
    }
   ],
   "source": [
    "pip install numpy "
   ]
  },
  {
   "cell_type": "code",
   "execution_count": 1,
   "metadata": {},
   "outputs": [
    {
     "data": {
      "text/plain": [
       "'1.21.2'"
      ]
     },
     "execution_count": 1,
     "metadata": {},
     "output_type": "execute_result"
    }
   ],
   "source": [
    "import numpy as np \n",
    "np.__version__ "
   ]
  },
  {
   "cell_type": "code",
   "execution_count": 5,
   "metadata": {},
   "outputs": [
    {
     "name": "stdout",
     "output_type": "stream",
     "text": [
      "[0, 1, 2, 3, 4, 5, 6, 7, 8, 9]\n"
     ]
    }
   ],
   "source": [
    "# cek yang lebi cepat \n",
    "b = list (range(10)) \n",
    "print(b)"
   ]
  },
  {
   "cell_type": "code",
   "execution_count": 16,
   "metadata": {},
   "outputs": [],
   "source": [
    "\n",
    "\n",
    "## add vecktor menggunakan list python \n",
    "def python_sum(n): \n",
    "    b = a = list (range(n)) # menginisialisasi a dan b dari list range \n",
    "    output = [] # sebagai output \n",
    "    for i in range(len(a)):\n",
    "        x = a[i] ** 2 # \n",
    "        y = b[i] ** 3 \n",
    "        output.append(x+y) \n",
    "\n",
    "    return output"
   ]
  },
  {
   "cell_type": "code",
   "execution_count": 20,
   "metadata": {},
   "outputs": [
    {
     "name": "stdout",
     "output_type": "stream",
     "text": [
      "[0, 2, 12, 36, 80, 150, 252, 392, 576, 810]\n"
     ]
    }
   ],
   "source": [
    "out_put = python_sum(10)\n",
    "print(out_put)"
   ]
  },
  {
   "cell_type": "code",
   "execution_count": 22,
   "metadata": {},
   "outputs": [],
   "source": [
    "def numpy_sum(n):\n",
    "    a = np.arange(n) ** 2 \n",
    "    b = np.arange(n) ** 3\n",
    "    output = a + b \n",
    "    return output"
   ]
  },
  {
   "cell_type": "code",
   "execution_count": 23,
   "metadata": {},
   "outputs": [
    {
     "name": "stdout",
     "output_type": "stream",
     "text": [
      "[  0   2  12  36  80 150 252 392 576 810]\n"
     ]
    }
   ],
   "source": [
    "out_put_numpy = numpy_sum(10)\n",
    "print(out_put_numpy)"
   ]
  },
  {
   "cell_type": "code",
   "execution_count": 29,
   "metadata": {},
   "outputs": [
    {
     "name": "stdout",
     "output_type": "stream",
     "text": [
      " Python list Jumlah waktu :   958094\n",
      " data :  [999995000007999996, 999998000001000000]\n"
     ]
    }
   ],
   "source": [
    "#membanding menggunakn lib datetime \n",
    "from datetime import datetime \n",
    "size = 1000000\n",
    "start = datetime.now()\n",
    "c= python_sum(size)\n",
    "end = datetime.now() - start \n",
    "print(\" Python list Jumlah waktu :  \", end.microseconds)\n",
    "print(' data : ', c[-2:]) ## di ambil 2 terakhir "
   ]
  },
  {
   "cell_type": "code",
   "execution_count": 30,
   "metadata": {},
   "outputs": [
    {
     "name": "stdout",
     "output_type": "stream",
     "text": [
      " Numpy Sum Jumlah waktu :   37483\n",
      " data :  [999995000007999996 999998000001000000]\n"
     ]
    }
   ],
   "source": [
    "from datetime import datetime \n",
    "size = 1000000\n",
    "start = datetime.now()\n",
    "c= numpy_sum(size)\n",
    "end = datetime.now() - start \n",
    "print(\" Numpy Sum Jumlah waktu :  \", end.microseconds)\n",
    "print(' data : ', c[-2:]) ## di ambil 2 terakhir "
   ]
  },
  {
   "cell_type": "code",
   "execution_count": 32,
   "metadata": {},
   "outputs": [
    {
     "data": {
      "text/plain": [
       "array([1, 2, 3, 4])"
      ]
     },
     "execution_count": 32,
     "metadata": {},
     "output_type": "execute_result"
    }
   ],
   "source": [
    "import numpy \n",
    "numpy.array([1,2,3,4])"
   ]
  },
  {
   "cell_type": "code",
   "execution_count": 33,
   "metadata": {},
   "outputs": [
    {
     "data": {
      "text/plain": [
       "array([1, 2, 3, 4])"
      ]
     },
     "execution_count": 33,
     "metadata": {},
     "output_type": "execute_result"
    }
   ],
   "source": [
    "from numpy import * \n",
    "array([1,2,3,4])"
   ]
  },
  {
   "cell_type": "code",
   "execution_count": 34,
   "metadata": {},
   "outputs": [
    {
     "data": {
      "text/plain": [
       "array([1, 2, 3, 4])"
      ]
     },
     "execution_count": 34,
     "metadata": {},
     "output_type": "execute_result"
    }
   ],
   "source": [
    "import numpy as np \n",
    "np.array([1,2,3,4])"
   ]
  },
  {
   "cell_type": "code",
   "execution_count": 36,
   "metadata": {},
   "outputs": [
    {
     "name": "stdout",
     "output_type": "stream",
     "text": [
      "\n",
      "NumPy\n",
      "=====\n",
      "\n",
      "Provides\n",
      "  1. An array object of arbitrary homogeneous items\n",
      "  2. Fast mathematical operations over arrays\n",
      "  3. Linear Algebra, Fourier Transforms, Random Number Generation\n",
      "\n",
      "How to use the documentation\n",
      "----------------------------\n",
      "Documentation is available in two forms: docstrings provided\n",
      "with the code, and a loose standing reference guide, available from\n",
      "`the NumPy homepage <https://www.scipy.org>`_.\n",
      "\n",
      "We recommend exploring the docstrings using\n",
      "`IPython <https://ipython.org>`_, an advanced Python shell with\n",
      "TAB-completion and introspection capabilities.  See below for further\n",
      "instructions.\n",
      "\n",
      "The docstring examples assume that `numpy` has been imported as `np`::\n",
      "\n",
      "  >>> import numpy as np\n",
      "\n",
      "Code snippets are indicated by three greater-than signs::\n",
      "\n",
      "  >>> x = 42\n",
      "  >>> x = x + 1\n",
      "\n",
      "Use the built-in ``help`` function to view a function's docstring::\n",
      "\n",
      "  >>> help(np.sort)\n",
      "  ... # doctest: +SKIP\n",
      "\n",
      "For some objects, ``np.info(obj)`` may provide additional help.  This is\n",
      "particularly true if you see the line \"Help on ufunc object:\" at the top\n",
      "of the help() page.  Ufuncs are implemented in C, not Python, for speed.\n",
      "The native Python help() does not know how to view their help, but our\n",
      "np.info() function does.\n",
      "\n",
      "To search for documents containing a keyword, do::\n",
      "\n",
      "  >>> np.lookfor('keyword')\n",
      "  ... # doctest: +SKIP\n",
      "\n",
      "General-purpose documents like a glossary and help on the basic concepts\n",
      "of numpy are available under the ``doc`` sub-module::\n",
      "\n",
      "  >>> from numpy import doc\n",
      "  >>> help(doc)\n",
      "  ... # doctest: +SKIP\n",
      "\n",
      "Available subpackages\n",
      "---------------------\n",
      "doc\n",
      "    Topical documentation on broadcasting, indexing, etc.\n",
      "lib\n",
      "    Basic functions used by several sub-packages.\n",
      "random\n",
      "    Core Random Tools\n",
      "linalg\n",
      "    Core Linear Algebra Tools\n",
      "fft\n",
      "    Core FFT routines\n",
      "polynomial\n",
      "    Polynomial tools\n",
      "testing\n",
      "    NumPy testing tools\n",
      "f2py\n",
      "    Fortran to Python Interface Generator.\n",
      "distutils\n",
      "    Enhancements to distutils with support for\n",
      "    Fortran compilers support and more.\n",
      "\n",
      "Utilities\n",
      "---------\n",
      "test\n",
      "    Run numpy unittests\n",
      "show_config\n",
      "    Show numpy build configuration\n",
      "dual\n",
      "    Overwrite certain functions with high-performance SciPy tools.\n",
      "    Note: `numpy.dual` is deprecated.  Use the functions from NumPy or Scipy\n",
      "    directly instead of importing them from `numpy.dual`.\n",
      "matlib\n",
      "    Make everything matrices.\n",
      "__version__\n",
      "    NumPy version string\n",
      "\n",
      "Viewing documentation using IPython\n",
      "-----------------------------------\n",
      "Start IPython with the NumPy profile (``ipython -p numpy``), which will\n",
      "import `numpy` under the alias `np`.  Then, use the ``cpaste`` command to\n",
      "paste examples into the shell.  To see which functions are available in\n",
      "`numpy`, type ``np.<TAB>`` (where ``<TAB>`` refers to the TAB key), or use\n",
      "``np.*cos*?<ENTER>`` (where ``<ENTER>`` refers to the ENTER key) to narrow\n",
      "down the list.  To view the docstring for a function, use\n",
      "``np.cos?<ENTER>`` (to view the docstring) and ``np.cos??<ENTER>`` (to view\n",
      "the source code).\n",
      "\n",
      "Copies vs. in-place operation\n",
      "-----------------------------\n",
      "Most of the functions in `numpy` return a copy of the array argument\n",
      "(e.g., `np.sort`).  In-place versions of these functions are often\n",
      "available as array methods, i.e. ``x = np.array([1,2,3]); x.sort()``.\n",
      "Exceptions to this rule are documented.\n",
      "\n",
      "\n"
     ]
    }
   ],
   "source": [
    "print(np.__doc__)"
   ]
  },
  {
   "attachments": {},
   "cell_type": "markdown",
   "metadata": {},
   "source": []
  },
  {
   "attachments": {},
   "cell_type": "markdown",
   "metadata": {},
   "source": [
    "_____"
   ]
  },
  {
   "attachments": {},
   "cell_type": "markdown",
   "metadata": {},
   "source": [
    "#### Create An Ndarrays"
   ]
  },
  {
   "cell_type": "code",
   "execution_count": 37,
   "metadata": {},
   "outputs": [
    {
     "name": "stdout",
     "output_type": "stream",
     "text": [
      "[0, 1, 2, 3, 4]\n",
      "<class 'list'>\n"
     ]
    }
   ],
   "source": [
    "import numpy as np \n",
    "\n",
    "my_list = list(range(5))\n",
    "print(my_list)\n",
    "print(type(my_list))"
   ]
  },
  {
   "cell_type": "code",
   "execution_count": 39,
   "metadata": {},
   "outputs": [
    {
     "name": "stdout",
     "output_type": "stream",
     "text": [
      "[0 1 2 3 4]\n",
      "<class 'numpy.ndarray'>\n"
     ]
    }
   ],
   "source": [
    "nparr_1  = np.array(my_list)\n",
    "print(nparr_1)\n",
    "print(type(nparr_1))"
   ]
  },
  {
   "cell_type": "code",
   "execution_count": 43,
   "metadata": {},
   "outputs": [
    {
     "name": "stdout",
     "output_type": "stream",
     "text": [
      "[0 1 2 3 4]\n",
      "[1 2 3 4 5 6 7 8 9]\n",
      "[2 4 6 8]\n"
     ]
    }
   ],
   "source": [
    "print(np.arange(5)) # start, default =0 , stop = 5  , step default = 1 \n",
    "print(np.arange(1,10)) # start = 1 , stop = 10  , step default =1 \n",
    "print(np.arange(2,10,2)) # start = 2 , stop = 10 , step = 2 \n"
   ]
  },
  {
   "attachments": {},
   "cell_type": "markdown",
   "metadata": {},
   "source": [
    "_____"
   ]
  },
  {
   "attachments": {},
   "cell_type": "markdown",
   "metadata": {},
   "source": [
    "#### Add, Remove, and Sort\n",
    "- np.append() \n",
    "- np.delete()\n",
    "- np.sort()"
   ]
  },
  {
   "cell_type": "code",
   "execution_count": 44,
   "metadata": {},
   "outputs": [
    {
     "name": "stdout",
     "output_type": "stream",
     "text": [
      "[ 1  2  3  4  5  6  7  8  9 10]\n"
     ]
    }
   ],
   "source": [
    "var_nparr = np.array([1,2,3,4,5,6,7,8,9,10])\n",
    "print(var_nparr)"
   ]
  },
  {
   "cell_type": "code",
   "execution_count": 45,
   "metadata": {},
   "outputs": [
    {
     "name": "stdout",
     "output_type": "stream",
     "text": [
      "[ 1  2  3  4  5  6  7  8  9 10 11 12]\n"
     ]
    }
   ],
   "source": [
    "new_append = np.append(var_nparr, [11,12])\n",
    "print(new_append)"
   ]
  },
  {
   "cell_type": "code",
   "execution_count": 46,
   "metadata": {},
   "outputs": [
    {
     "data": {
      "text/plain": [
       "array([ 1,  2,  3,  5,  6,  7,  8,  9, 10, 11, 12])"
      ]
     },
     "execution_count": 46,
     "metadata": {},
     "output_type": "execute_result"
    }
   ],
   "source": [
    "np.delete(new_append, 3) ## 3 berdasarkan index "
   ]
  },
  {
   "attachments": {},
   "cell_type": "markdown",
   "metadata": {},
   "source": [
    "np.sort(a, axis=1, kind=None, order=None)"
   ]
  },
  {
   "cell_type": "code",
   "execution_count": 47,
   "metadata": {},
   "outputs": [
    {
     "name": "stdout",
     "output_type": "stream",
     "text": [
      "\u001b[0;31mSignature:\u001b[0m \u001b[0mnp\u001b[0m\u001b[0;34m.\u001b[0m\u001b[0msort\u001b[0m\u001b[0;34m(\u001b[0m\u001b[0ma\u001b[0m\u001b[0;34m,\u001b[0m \u001b[0maxis\u001b[0m\u001b[0;34m=\u001b[0m\u001b[0;34m-\u001b[0m\u001b[0;36m1\u001b[0m\u001b[0;34m,\u001b[0m \u001b[0mkind\u001b[0m\u001b[0;34m=\u001b[0m\u001b[0;32mNone\u001b[0m\u001b[0;34m,\u001b[0m \u001b[0morder\u001b[0m\u001b[0;34m=\u001b[0m\u001b[0;32mNone\u001b[0m\u001b[0;34m)\u001b[0m\u001b[0;34m\u001b[0m\u001b[0;34m\u001b[0m\u001b[0m\n",
      "\u001b[0;31mDocstring:\u001b[0m\n",
      "Return a sorted copy of an array.\n",
      "\n",
      "Parameters\n",
      "----------\n",
      "a : array_like\n",
      "    Array to be sorted.\n",
      "axis : int or None, optional\n",
      "    Axis along which to sort. If None, the array is flattened before\n",
      "    sorting. The default is -1, which sorts along the last axis.\n",
      "kind : {'quicksort', 'mergesort', 'heapsort', 'stable'}, optional\n",
      "    Sorting algorithm. The default is 'quicksort'. Note that both 'stable'\n",
      "    and 'mergesort' use timsort or radix sort under the covers and, in general,\n",
      "    the actual implementation will vary with data type. The 'mergesort' option\n",
      "    is retained for backwards compatibility.\n",
      "\n",
      "    .. versionchanged:: 1.15.0.\n",
      "       The 'stable' option was added.\n",
      "\n",
      "order : str or list of str, optional\n",
      "    When `a` is an array with fields defined, this argument specifies\n",
      "    which fields to compare first, second, etc.  A single field can\n",
      "    be specified as a string, and not all fields need be specified,\n",
      "    but unspecified fields will still be used, in the order in which\n",
      "    they come up in the dtype, to break ties.\n",
      "\n",
      "Returns\n",
      "-------\n",
      "sorted_array : ndarray\n",
      "    Array of the same type and shape as `a`.\n",
      "\n",
      "See Also\n",
      "--------\n",
      "ndarray.sort : Method to sort an array in-place.\n",
      "argsort : Indirect sort.\n",
      "lexsort : Indirect stable sort on multiple keys.\n",
      "searchsorted : Find elements in a sorted array.\n",
      "partition : Partial sort.\n",
      "\n",
      "Notes\n",
      "-----\n",
      "The various sorting algorithms are characterized by their average speed,\n",
      "worst case performance, work space size, and whether they are stable. A\n",
      "stable sort keeps items with the same key in the same relative\n",
      "order. The four algorithms implemented in NumPy have the following\n",
      "properties:\n",
      "\n",
      "=========== ======= ============= ============ ========\n",
      "   kind      speed   worst case    work space   stable\n",
      "=========== ======= ============= ============ ========\n",
      "'quicksort'    1     O(n^2)            0          no\n",
      "'heapsort'     3     O(n*log(n))       0          no\n",
      "'mergesort'    2     O(n*log(n))      ~n/2        yes\n",
      "'timsort'      2     O(n*log(n))      ~n/2        yes\n",
      "=========== ======= ============= ============ ========\n",
      "\n",
      ".. note:: The datatype determines which of 'mergesort' or 'timsort'\n",
      "   is actually used, even if 'mergesort' is specified. User selection\n",
      "   at a finer scale is not currently available.\n",
      "\n",
      "All the sort algorithms make temporary copies of the data when\n",
      "sorting along any but the last axis.  Consequently, sorting along\n",
      "the last axis is faster and uses less space than sorting along\n",
      "any other axis.\n",
      "\n",
      "The sort order for complex numbers is lexicographic. If both the real\n",
      "and imaginary parts are non-nan then the order is determined by the\n",
      "real parts except when they are equal, in which case the order is\n",
      "determined by the imaginary parts.\n",
      "\n",
      "Previous to numpy 1.4.0 sorting real and complex arrays containing nan\n",
      "values led to undefined behaviour. In numpy versions >= 1.4.0 nan\n",
      "values are sorted to the end. The extended sort order is:\n",
      "\n",
      "  * Real: [R, nan]\n",
      "  * Complex: [R + Rj, R + nanj, nan + Rj, nan + nanj]\n",
      "\n",
      "where R is a non-nan real value. Complex values with the same nan\n",
      "placements are sorted according to the non-nan part if it exists.\n",
      "Non-nan values are sorted as before.\n",
      "\n",
      ".. versionadded:: 1.12.0\n",
      "\n",
      "quicksort has been changed to `introsort <https://en.wikipedia.org/wiki/Introsort>`_.\n",
      "When sorting does not make enough progress it switches to\n",
      "`heapsort <https://en.wikipedia.org/wiki/Heapsort>`_.\n",
      "This implementation makes quicksort O(n*log(n)) in the worst case.\n",
      "\n",
      "'stable' automatically chooses the best stable sorting algorithm\n",
      "for the data type being sorted.\n",
      "It, along with 'mergesort' is currently mapped to\n",
      "`timsort <https://en.wikipedia.org/wiki/Timsort>`_\n",
      "or `radix sort <https://en.wikipedia.org/wiki/Radix_sort>`_\n",
      "depending on the data type.\n",
      "API forward compatibility currently limits the\n",
      "ability to select the implementation and it is hardwired for the different\n",
      "data types.\n",
      "\n",
      ".. versionadded:: 1.17.0\n",
      "\n",
      "Timsort is added for better performance on already or nearly\n",
      "sorted data. On random data timsort is almost identical to\n",
      "mergesort. It is now used for stable sort while quicksort is still the\n",
      "default sort if none is chosen. For timsort details, refer to\n",
      "`CPython listsort.txt <https://github.com/python/cpython/blob/3.7/Objects/listsort.txt>`_.\n",
      "'mergesort' and 'stable' are mapped to radix sort for integer data types. Radix sort is an\n",
      "O(n) sort instead of O(n log n).\n",
      "\n",
      ".. versionchanged:: 1.18.0\n",
      "\n",
      "NaT now sorts to the end of arrays for consistency with NaN.\n",
      "\n",
      "Examples\n",
      "--------\n",
      ">>> a = np.array([[1,4],[3,1]])\n",
      ">>> np.sort(a)                # sort along the last axis\n",
      "array([[1, 4],\n",
      "       [1, 3]])\n",
      ">>> np.sort(a, axis=None)     # sort the flattened array\n",
      "array([1, 1, 3, 4])\n",
      ">>> np.sort(a, axis=0)        # sort along the first axis\n",
      "array([[1, 1],\n",
      "       [3, 4]])\n",
      "\n",
      "Use the `order` keyword to specify a field to use when sorting a\n",
      "structured array:\n",
      "\n",
      ">>> dtype = [('name', 'S10'), ('height', float), ('age', int)]\n",
      ">>> values = [('Arthur', 1.8, 41), ('Lancelot', 1.9, 38),\n",
      "...           ('Galahad', 1.7, 38)]\n",
      ">>> a = np.array(values, dtype=dtype)       # create a structured array\n",
      ">>> np.sort(a, order='height')                        # doctest: +SKIP\n",
      "array([('Galahad', 1.7, 38), ('Arthur', 1.8, 41),\n",
      "       ('Lancelot', 1.8999999999999999, 38)],\n",
      "      dtype=[('name', '|S10'), ('height', '<f8'), ('age', '<i4')])\n",
      "\n",
      "Sort by age, then height if ages are equal:\n",
      "\n",
      ">>> np.sort(a, order=['age', 'height'])               # doctest: +SKIP\n",
      "array([('Galahad', 1.7, 38), ('Lancelot', 1.8999999999999999, 38),\n",
      "       ('Arthur', 1.8, 41)],\n",
      "      dtype=[('name', '|S10'), ('height', '<f8'), ('age', '<i4')])\n",
      "\u001b[0;31mFile:\u001b[0m      /usr/local/lib/python3.9/site-packages/numpy/core/fromnumeric.py\n",
      "\u001b[0;31mType:\u001b[0m      function"
     ]
    }
   ],
   "source": [
    "np.sort?\n"
   ]
  },
  {
   "cell_type": "code",
   "execution_count": 49,
   "metadata": {},
   "outputs": [
    {
     "name": "stdout",
     "output_type": "stream",
     "text": [
      "[ 1  1  2  3  5  6  7  9 10]\n"
     ]
    }
   ],
   "source": [
    "arrx = np.array([3,1,2,5,6,10,7,9,1])\n",
    "arrsort = np.sort(arrx)\n",
    "print(arrsort)\n",
    "\n"
   ]
  },
  {
   "attachments": {},
   "cell_type": "markdown",
   "metadata": {},
   "source": [
    "_____"
   ]
  },
  {
   "attachments": {},
   "cell_type": "markdown",
   "metadata": {},
   "source": [
    "### Multi-Dimensional Arrays\n",
    "    NumPy array memudahkan kita untuk membuat array multi-dimensi."
   ]
  },
  {
   "attachments": {},
   "cell_type": "markdown",
   "metadata": {},
   "source": [
    "<img src=\"https://i.ibb.co/dDQnK4S/2DArray.png\" align=\"center\">\n"
   ]
  },
  {
   "attachments": {},
   "cell_type": "markdown",
   "metadata": {},
   "source": [
    "#### ndim , shape and size"
   ]
  },
  {
   "cell_type": "code",
   "execution_count": 52,
   "metadata": {},
   "outputs": [
    {
     "name": "stdout",
     "output_type": "stream",
     "text": [
      "[[0, 1, 2, 3], [10, 11, 12, 13]]\n",
      "<class 'list'>\n",
      "[[ 0  1  2  3]\n",
      " [10 11 12 13]]\n",
      "<class 'numpy.ndarray'>\n",
      "2\n",
      "(2, 4)\n",
      "8\n"
     ]
    }
   ],
   "source": [
    "multilist= [[0,1,2,3],[10,11,12,13]]\n",
    "print(multilist)\n",
    "print(type(multilist))\n",
    "\n",
    "nparr = np.array(multilist)\n",
    "print(nparr)\n",
    "print(type(nparr))\n",
    "print(nparr.ndim )\n",
    "print(nparr.shape)\n",
    "print(nparr.size)\n"
   ]
  },
  {
   "attachments": {},
   "cell_type": "markdown",
   "metadata": {},
   "source": [
    "  ndarray.ndim akan memberi tahu Anda jumlah sumbu, atau dimensi, dari array.\n",
    "\n",
    "  ndarray.size akan memberi tahu Anda jumlah total elemen array. Ini adalah produk dari elemen bentuk array.\n",
    "\n",
    "  ndarray.shape akan menampilkan tupel bilangan bulat yang menunjukkan jumlah elemen yang disimpan di sepanjang setiap dimensi array. Jika, misalnya, Anda memiliki array 2D dengan 2 baris dan 4 kolom, bentuk array Anda adalah (2,4)."
   ]
  },
  {
   "attachments": {},
   "cell_type": "markdown",
   "metadata": {},
   "source": [
    "<img src=\"https://i.ibb.co/LRLN7ZP/shape.png\" align=\"center\">"
   ]
  },
  {
   "attachments": {},
   "cell_type": "markdown",
   "metadata": {},
   "source": [
    "#### Size\n",
    "<img src=\"https://i.ibb.co/KN199JW/size.png\" align=\"center\"> "
   ]
  },
  {
   "cell_type": "code",
   "execution_count": 57,
   "metadata": {},
   "outputs": [
    {
     "name": "stdout",
     "output_type": "stream",
     "text": [
      "[[[ 0  1  2  3]\n",
      "  [ 4  5  6  7]]\n",
      "\n",
      " [[ 8  9 10 11]\n",
      "  [ 4  5  6  7]]\n",
      "\n",
      " [[11 12 13 14]\n",
      "  [ 4  5  6  7]]]\n",
      "3\n",
      "(3, 2, 4)\n",
      "24\n"
     ]
    }
   ],
   "source": [
    "## contoh 3 demensi \n",
    "nparr3 = np.array([[[0,1,2,3],\n",
    "                    [4,5,6,7]],\n",
    "                [[8,9,10,11],\n",
    "                 [4,5,6,7]],\n",
    "                [[11,12,13,14],\n",
    "                [4,5,6,7]]])\n",
    "print(nparr3)\n",
    "print(nparr3.ndim)\n",
    "print(nparr3.shape)\n",
    "print(nparr3.size)\n"
   ]
  },
  {
   "attachments": {},
   "cell_type": "markdown",
   "metadata": {},
   "source": [
    "_____"
   ]
  },
  {
   "attachments": {},
   "cell_type": "markdown",
   "metadata": {},
   "source": [
    "    Pada array multi-dimensi kita dapat mengakses nilai elemen berdasarkan indeks dengan pemisah tanda koma [,]. \n",
    "    Misalkan kita ingin mendapatkan data pada baris ke-1 dan kolom ke-3 dari array a,\n",
    "    maka dilakukan perintah a[1, 3].\n",
    "\n",
    "    Misalkan, kita akan mengganti data pada baris ke-1 dan kolom ke-3 pada array a dengan nilai -1, \n",
    "    kita dapat langsung assign nilai baru tersebut pada indeks."
   ]
  },
  {
   "attachments": {},
   "cell_type": "markdown",
   "metadata": {},
   "source": [
    "<img src=\"https://i.ibb.co/LPDSf6N/2dimx.png\" align=\"center\"> "
   ]
  },
  {
   "cell_type": "code",
   "execution_count": 59,
   "metadata": {},
   "outputs": [
    {
     "name": "stdout",
     "output_type": "stream",
     "text": [
      "[[ 0  1  2  3]\n",
      " [10 11 12 13]]\n"
     ]
    }
   ],
   "source": [
    "multilist= [[0,1,2,3],[10,11,12,13]]\n",
    "# print(multilist)\n",
    "# print(type(multilist))\n",
    "\n",
    "nparr = np.array(multilist)\n",
    "print(nparr)\n",
    "# print(type(nparr))\n",
    "# print(nparr.ndim )\n",
    "# print(nparr.shape)\n",
    "# print(nparr.size)"
   ]
  },
  {
   "cell_type": "code",
   "execution_count": 61,
   "metadata": {},
   "outputs": [
    {
     "name": "stdout",
     "output_type": "stream",
     "text": [
      "13\n",
      "[[ 0  1  2  3]\n",
      " [10 11 12 -1]]\n"
     ]
    }
   ],
   "source": [
    "print(nparr[1,3])\n",
    "nparr[1,3] = -1 \n",
    "print(nparr)\n"
   ]
  },
  {
   "attachments": {},
   "cell_type": "markdown",
   "metadata": {},
   "source": [
    "______"
   ]
  },
  {
   "attachments": {},
   "cell_type": "markdown",
   "metadata": {},
   "source": [
    " #### Sorting Array\n",
    " \n",
    " np.sort?  ## Signature: np.sort(a, axis=-1, kind=None, order=None)\n",
    "\n",
    "|   kind    |  speed  |    stable |\n",
    "|:--------|:-------|:--------| \n",
    "|'quicksort' |   1    |          no |\n",
    "|'heapsort'  |   3   |          no |\n",
    "|'mergesort' |   2   |       yes |\n",
    "|'timsort'   |   2  |          yes |\n"
   ]
  },
  {
   "cell_type": "code",
   "execution_count": 69,
   "metadata": {},
   "outputs": [
    {
     "name": "stdout",
     "output_type": "stream",
     "text": [
      "[('name', 'S10'), ('heigt', <class 'float'>), ('age', <class 'int'>)]\n"
     ]
    }
   ],
   "source": [
    "# membuat sort dengan structure \n",
    "xtype = [('name', 'S10'), ('heigt',float), ('age',int)]\n",
    "print(xtype)"
   ]
  },
  {
   "cell_type": "code",
   "execution_count": 70,
   "metadata": {},
   "outputs": [
    {
     "name": "stdout",
     "output_type": "stream",
     "text": [
      "[('Sule', 1.7, 46), ('Azis', 1.5, 40), ('Parto', 1.8, 49)]\n"
     ]
    }
   ],
   "source": [
    "values = [('Sule', 1.7 , 46),('Azis', 1.5 , 40),('Parto', 1.8 , 49)]\n",
    "print(values)"
   ]
  },
  {
   "cell_type": "code",
   "execution_count": 71,
   "metadata": {},
   "outputs": [
    {
     "name": "stdout",
     "output_type": "stream",
     "text": [
      "[(b'Sule', 1.7, 46) (b'Azis', 1.5, 40) (b'Parto', 1.8, 49)]\n"
     ]
    }
   ],
   "source": [
    "npx = np.array(values, dtype=xtype )\n",
    "print(npx)"
   ]
  },
  {
   "cell_type": "code",
   "execution_count": 73,
   "metadata": {},
   "outputs": [
    {
     "name": "stdout",
     "output_type": "stream",
     "text": [
      "[(b'Azis', 1.5, 40) (b'Parto', 1.8, 49) (b'Sule', 1.7, 46)]\n"
     ]
    }
   ],
   "source": [
    "outx = np.sort(npx, order='name')\n",
    "print(outx)"
   ]
  },
  {
   "cell_type": "code",
   "execution_count": 74,
   "metadata": {},
   "outputs": [
    {
     "name": "stdout",
     "output_type": "stream",
     "text": [
      "[(b'Azis', 1.5, 40) (b'Sule', 1.7, 46) (b'Parto', 1.8, 49)]\n"
     ]
    }
   ],
   "source": [
    "outx = np.sort(npx, order=['age','heigt'])\n",
    "print(outx)"
   ]
  },
  {
   "cell_type": "code",
   "execution_count": 75,
   "metadata": {},
   "outputs": [
    {
     "data": {
      "text/plain": [
       "(b'Sule', 1.7, 46)"
      ]
     },
     "execution_count": 75,
     "metadata": {},
     "output_type": "execute_result"
    }
   ],
   "source": [
    "outx[1] "
   ]
  },
  {
   "cell_type": "code",
   "execution_count": 78,
   "metadata": {},
   "outputs": [
    {
     "data": {
      "text/plain": [
       "40"
      ]
     },
     "execution_count": 78,
     "metadata": {},
     "output_type": "execute_result"
    }
   ],
   "source": [
    "outx[0][2]"
   ]
  },
  {
   "attachments": {},
   "cell_type": "markdown",
   "metadata": {},
   "source": [
    "______"
   ]
  },
  {
   "attachments": {},
   "cell_type": "markdown",
   "metadata": {},
   "source": [
    "#### zeroes \n",
    "\n",
    "  Sering ada kasus ketika kita ingin NumPy menginisialisasi nilai array untuk kita. NumPy menyediakan metode seperti one(), zeros(), dan lain-lain untuk kasus ini. Kami hanya memberikan mereka jumlah elemen yang kami ingin hasilkan: "
   ]
  },
  {
   "cell_type": "code",
   "execution_count": 79,
   "metadata": {},
   "outputs": [
    {
     "data": {
      "text/plain": [
       "array([0., 0., 0., 0., 0., 0., 0., 0., 0., 0.])"
      ]
     },
     "execution_count": 79,
     "metadata": {},
     "output_type": "execute_result"
    }
   ],
   "source": [
    "np.zeros(10)\n"
   ]
  },
  {
   "cell_type": "code",
   "execution_count": 80,
   "metadata": {},
   "outputs": [
    {
     "data": {
      "text/plain": [
       "array([1., 1., 1., 1., 1., 1., 1., 1., 1., 1., 1., 1., 1., 1., 1., 1., 1.,\n",
       "       1., 1., 1.])"
      ]
     },
     "execution_count": 80,
     "metadata": {},
     "output_type": "execute_result"
    }
   ],
   "source": [
    "np.ones(20)"
   ]
  },
  {
   "cell_type": "code",
   "execution_count": 82,
   "metadata": {},
   "outputs": [
    {
     "data": {
      "text/plain": [
       "array([[[0., 0.],\n",
       "        [0., 0.]],\n",
       "\n",
       "       [[0., 0.],\n",
       "        [0., 0.]]])"
      ]
     },
     "execution_count": 82,
     "metadata": {},
     "output_type": "execute_result"
    }
   ],
   "source": [
    "np.zeros((2,2,2))"
   ]
  },
  {
   "attachments": {},
   "cell_type": "markdown",
   "metadata": {},
   "source": [
    "_______"
   ]
  },
  {
   "attachments": {},
   "cell_type": "markdown",
   "metadata": {},
   "source": [
    "### Reshape"
   ]
  },
  {
   "attachments": {},
   "cell_type": "markdown",
   "metadata": {},
   "source": [
    "    Menggunakan np.reshape() akan memberikan bentuk baru ke array tanpa mengubah data. \n",
    "    Ingatlah bahwa ketika Anda menggunakan metode reshape.  \n",
    "    -  output dari array memiliki jumlah elemen yang sama dengan array aslinya. \n",
    "     12 element :  4x3 , 3x4 , 12 x 1 \n",
    "    \n",
    "    Dengan np.reshape, Anda dapat menentukan beberapa parameter opsional:\n",
    "\n",
    "numpy.reshape(a, newshape, order)\n",
    "\n",
    "    a adalah array yang akan dibentuk kembali.\n",
    "    newshape : int atau tuple dari ints\n",
    "    newshape : bentuk baru yang Anda inginkan. \n",
    "               Anda dapat menentukan bilangan bulat atau tupel bilangan bulat. \n",
    "               Jika Anda menentukan bilangan bulat, hasilnya akan berupa array dengan panjang tersebut. \n",
    "               Bentuknya harus sesuai dengan bentuk aslinya.\n",
    "    order    : 'C' berarti membaca/menulis elemen menggunakan urutan indeks seperti C,\n",
    "               'F' berarti membaca/menulis elemen menggunakan urutan indeks seperti Fortran, \n",
    "               'A' berarti membaca/menulis elemen dalam seperti Fortran urutan indeks \n",
    "                jika a adalah Fortran bersebelahan dalam memori, urutan seperti C sebaliknya. \n",
    "                (Ini adalah parameter opsional dan tidak perlu ditentukan.)\n",
    "                Default = C \n",
    "\n"
   ]
  },
  {
   "cell_type": "code",
   "execution_count": 84,
   "metadata": {},
   "outputs": [
    {
     "name": "stdout",
     "output_type": "stream",
     "text": [
      "[0 1 2 3 4 5]\n"
     ]
    }
   ],
   "source": [
    "x = np.arange(6)\n",
    "print(x)"
   ]
  },
  {
   "cell_type": "code",
   "execution_count": 87,
   "metadata": {},
   "outputs": [
    {
     "name": "stdout",
     "output_type": "stream",
     "text": [
      "[[0 1 2]\n",
      " [3 4 5]]\n",
      "(2, 3)\n",
      "[[0 1]\n",
      " [2 3]\n",
      " [4 5]]\n",
      "(3, 2)\n"
     ]
    }
   ],
   "source": [
    "new_x = x.reshape(2,3)\n",
    "print(new_x)\n",
    "print(new_x.shape)\n",
    "\n",
    "new_x = x.reshape(3,2)\n",
    "print(new_x)\n",
    "print(new_x.shape)"
   ]
  },
  {
   "cell_type": "code",
   "execution_count": 89,
   "metadata": {},
   "outputs": [
    {
     "name": "stdout",
     "output_type": "stream",
     "text": [
      "[0 1 2 3 4]\n"
     ]
    },
    {
     "ename": "ValueError",
     "evalue": "cannot reshape array of size 5 into shape (2,2)",
     "output_type": "error",
     "traceback": [
      "\u001b[0;31m---------------------------------------------------------------------------\u001b[0m",
      "\u001b[0;31mValueError\u001b[0m                                Traceback (most recent call last)",
      "Cell \u001b[0;32mIn[89], line 3\u001b[0m\n\u001b[1;32m      1\u001b[0m r_x \u001b[39m=\u001b[39m np\u001b[39m.\u001b[39marange(\u001b[39m5\u001b[39m) \n\u001b[1;32m      2\u001b[0m \u001b[39mprint\u001b[39m(r_x)\n\u001b[0;32m----> 3\u001b[0m resut_rx \u001b[39m=\u001b[39m r_x\u001b[39m.\u001b[39;49mreshape(\u001b[39m2\u001b[39;49m,\u001b[39m2\u001b[39;49m)\n\u001b[1;32m      4\u001b[0m \u001b[39mprint\u001b[39m(result_rx)\n",
      "\u001b[0;31mValueError\u001b[0m: cannot reshape array of size 5 into shape (2,2)"
     ]
    }
   ],
   "source": [
    "r_x = np.arange(5) \n",
    "print(r_x)\n",
    "resut_rx = r_x.reshape(2,2)\n",
    "print(result_rx)\n"
   ]
  },
  {
   "attachments": {},
   "cell_type": "markdown",
   "metadata": {},
   "source": [
    "_______"
   ]
  },
  {
   "attachments": {},
   "cell_type": "markdown",
   "metadata": {},
   "source": [
    "#### Convert 1D to 2D\n",
    "    np.newaxis\n",
    "    np.expand_dims\n",
    "    \n",
    "    Anda dapat menggunakan np.newaxis dan np.expand_dims untuk meningkatkan dimensi array yang ada.\n",
    "\n",
    "     Menggunakan np.newaxis akan meningkatkan dimensi array Anda satu dimensi saat digunakan sekali. \n",
    "     Artinya array 1D akan menjadi array 2D, \n",
    "     Array 2D akan menjadi Array 3D, dan seterusnya.\n",
    "\n",
    "     Misalnya, jika Anda mulai dengan array ini:"
   ]
  },
  {
   "cell_type": "code",
   "execution_count": 93,
   "metadata": {},
   "outputs": [
    {
     "name": "stdout",
     "output_type": "stream",
     "text": [
      "[1 2 3 4 5 6]\n",
      "(6,)\n"
     ]
    },
    {
     "data": {
      "text/plain": [
       "1"
      ]
     },
     "execution_count": 93,
     "metadata": {},
     "output_type": "execute_result"
    }
   ],
   "source": [
    "npd= np.arange(1,7)\n",
    "print(npd)\n",
    "print(npd.shape)\n",
    "npd.ndim"
   ]
  },
  {
   "cell_type": "code",
   "execution_count": 95,
   "metadata": {},
   "outputs": [
    {
     "name": "stdout",
     "output_type": "stream",
     "text": [
      "[[1 2 3 4 5 6]]\n",
      "(1, 6)\n",
      "2\n"
     ]
    }
   ],
   "source": [
    "a = npd[np.newaxis]\n",
    "print(a)\n",
    "print(a.shape)\n",
    "print(a.ndim)"
   ]
  },
  {
   "cell_type": "code",
   "execution_count": 97,
   "metadata": {},
   "outputs": [
    {
     "name": "stdout",
     "output_type": "stream",
     "text": [
      "(1, 6)\n",
      "[[1 2 3 4 5 6]]\n"
     ]
    }
   ],
   "source": [
    "row_vector = npd[np.newaxis, : ]\n",
    "print(row_vector.shape)\n",
    "print(row_vector)"
   ]
  },
  {
   "cell_type": "code",
   "execution_count": 99,
   "metadata": {},
   "outputs": [
    {
     "name": "stdout",
     "output_type": "stream",
     "text": [
      "(1, 1, 6)\n",
      "[[[1 2 3 4 5 6]]]\n",
      "3\n"
     ]
    }
   ],
   "source": [
    "col_vector = a[: , np.newaxis]\n",
    "print(col_vector.shape)\n",
    "print(col_vector)\n",
    "print(col_vector.ndim)"
   ]
  },
  {
   "attachments": {},
   "cell_type": "markdown",
   "metadata": {},
   "source": [
    "________"
   ]
  },
  {
   "attachments": {},
   "cell_type": "markdown",
   "metadata": {},
   "source": [
    "#### Indexing and Slicing\n",
    "Kalian dapat mengindeks dan slice array NumPy dengan cara yang sama seperti kalian slice lists Python.\n",
    "\n",
    "Array NumPy juga mendukung slice, seperti kalian slice lists Python, dengan menggunakan operator titik dua (yaitu arr[:]) untuk mengiris. Kita juga dapat menggunakan pengindeksan negatif untuk mengiris ke arah belakang.\n",
    "\n",
    "Kode di bawah ini menunjukkan potongan contoh array NumPy 1-D."
   ]
  },
  {
   "cell_type": "code",
   "execution_count": 100,
   "metadata": {},
   "outputs": [
    {
     "name": "stdout",
     "output_type": "stream",
     "text": [
      "[1 2 3 4]\n",
      "1\n",
      "4\n"
     ]
    }
   ],
   "source": [
    "data = np.array([1,2,3,4])\n",
    "print(data)\n",
    "print(data[0])\n",
    "print(data[-1])"
   ]
  },
  {
   "cell_type": "code",
   "execution_count": 101,
   "metadata": {},
   "outputs": [
    {
     "name": "stdout",
     "output_type": "stream",
     "text": [
      "[2 3 4]\n"
     ]
    }
   ],
   "source": [
    "print(data[1:])"
   ]
  },
  {
   "cell_type": "code",
   "execution_count": 102,
   "metadata": {},
   "outputs": [
    {
     "name": "stdout",
     "output_type": "stream",
     "text": [
      "[3 4]\n"
     ]
    }
   ],
   "source": [
    "print(data[-2:])"
   ]
  },
  {
   "attachments": {},
   "cell_type": "markdown",
   "metadata": {},
   "source": [
    "_______"
   ]
  },
  {
   "attachments": {},
   "cell_type": "markdown",
   "metadata": {},
   "source": [
    "Membuat Subset atau mengiris dari Array dengan menggunakan kondisi tertentu\n"
   ]
  },
  {
   "cell_type": "code",
   "execution_count": 105,
   "metadata": {},
   "outputs": [
    {
     "name": "stdout",
     "output_type": "stream",
     "text": [
      "[[ 0  1  2  3]\n",
      " [ 4  5  6  7]\n",
      " [10 11 12 13]]\n"
     ]
    }
   ],
   "source": [
    "list = [[0,1,2,3],[4,5,6,7],[10,11,12,13]]\n",
    "x1 = np.array(list)\n",
    "print(x1)"
   ]
  },
  {
   "cell_type": "code",
   "execution_count": 106,
   "metadata": {},
   "outputs": [
    {
     "name": "stdout",
     "output_type": "stream",
     "text": [
      "[0 1 2 3 4]\n"
     ]
    }
   ],
   "source": [
    "# kita ingin mengamibl nilai yang kurang dari 5 \n",
    "print(x1[x1<5])"
   ]
  },
  {
   "cell_type": "code",
   "execution_count": 107,
   "metadata": {},
   "outputs": [],
   "source": [
    "lebih_dari_6 = (x1 > 6 )"
   ]
  },
  {
   "cell_type": "code",
   "execution_count": 108,
   "metadata": {},
   "outputs": [
    {
     "name": "stdout",
     "output_type": "stream",
     "text": [
      "[ 7 10 11 12 13]\n"
     ]
    }
   ],
   "source": [
    "print(x1[lebih_dari_6])"
   ]
  },
  {
   "cell_type": "code",
   "execution_count": 111,
   "metadata": {},
   "outputs": [
    {
     "name": "stdout",
     "output_type": "stream",
     "text": [
      "[ 0  2  4  6 10 12]\n"
     ]
    }
   ],
   "source": [
    "div_by_2 = x1[x1%2==0]\n",
    "print(div_by_2)"
   ]
  },
  {
   "cell_type": "code",
   "execution_count": 113,
   "metadata": {},
   "outputs": [
    {
     "name": "stdout",
     "output_type": "stream",
     "text": [
      "[3 4 5 6]\n"
     ]
    }
   ],
   "source": [
    "out_x = x1[(x1 > 2) & (x1 < 7)]\n",
    "print(out_x)"
   ]
  },
  {
   "attachments": {},
   "cell_type": "markdown",
   "metadata": {},
   "source": [
    "_____"
   ]
  },
  {
   "attachments": {},
   "cell_type": "markdown",
   "metadata": {},
   "source": [
    "### Creating Array from Existing Data\n",
    "    slicing indexing\n",
    "    np.vstack()\n",
    "    np.hstack()\n",
    "    np.hsplit()\n",
    "    .view()\n",
    "    .copy()"
   ]
  },
  {
   "attachments": {},
   "cell_type": "markdown",
   "metadata": {},
   "source": [
    "Anda dapat dengan mudah menggunakan buat array baru dari bagian array yang ada. Katakanlah Anda memiliki array ini:\n",
    "\n",
    "array([ 1, 2, 3, 4, 5, 6, 7, 8, 9, 10])\n",
    "\n",
    "Anda dapat membuat array baru dari bagian array Anda kapan saja dengan menentukan di mana Anda ingin mengiris array Anda."
   ]
  },
  {
   "cell_type": "code",
   "execution_count": 114,
   "metadata": {},
   "outputs": [
    {
     "name": "stdout",
     "output_type": "stream",
     "text": [
      "[4 5 6 7 8]\n"
     ]
    }
   ],
   "source": [
    "arr = np.array([1, 2, 3, 4, 5, 6, 7, 8, 9, 10])\n",
    "arr_out1 = arr[3:8]\n",
    "print(arr_out1)"
   ]
  },
  {
   "cell_type": "code",
   "execution_count": 121,
   "metadata": {},
   "outputs": [
    {
     "name": "stdout",
     "output_type": "stream",
     "text": [
      "[[1 1]\n",
      " [2 2]]\n",
      "[[3 3]\n",
      " [4 4]]\n",
      "====================\n",
      "[[1 1]\n",
      " [2 2]\n",
      " [3 3]\n",
      " [4 4]]\n",
      "====================\n",
      "[[1 1 3 3]\n",
      " [2 2 4 4]]\n"
     ]
    }
   ],
   "source": [
    "x_1 = np.array([[1,1],[2,2]])\n",
    "x_2 = np.array([[3,3],[4,4]])\n",
    "\n",
    "print(x_1)\n",
    "print(x_2)\n",
    "print(\"==\"*10)\n",
    "vnp = np.vstack((x_1, x_2))\n",
    "print(vnp)\n",
    "print(\"==\"*10)\n",
    "hnp = np.hstack((x_1,x_2))\n",
    "print(hnp)\n"
   ]
  },
  {
   "cell_type": "code",
   "execution_count": 124,
   "metadata": {},
   "outputs": [
    {
     "name": "stdout",
     "output_type": "stream",
     "text": [
      "[[ 1  2  3  4  5  6  7  8  9 10 11 12]\n",
      " [21 22 23 24 25 26 27 28 29 30 31 32]]\n"
     ]
    }
   ],
   "source": [
    "arr_split = np.array([[1, 2, 3, 4,5,6,7,8,9,10,11,12],[21, 22, 23, 24,25,26,27,28,29,30,31,32]])\n",
    "print(arr_split)"
   ]
  },
  {
   "cell_type": "code",
   "execution_count": 125,
   "metadata": {},
   "outputs": [
    {
     "data": {
      "text/plain": [
       "[array([[ 1,  2,  3,  4],\n",
       "        [21, 22, 23, 24]]),\n",
       " array([[ 5,  6,  7,  8],\n",
       "        [25, 26, 27, 28]]),\n",
       " array([[ 9, 10, 11, 12],\n",
       "        [29, 30, 31, 32]])]"
      ]
     },
     "execution_count": 125,
     "metadata": {},
     "output_type": "execute_result"
    }
   ],
   "source": [
    "np.hsplit(arr_split, 3)"
   ]
  },
  {
   "attachments": {},
   "cell_type": "markdown",
   "metadata": {},
   "source": [
    "______"
   ]
  },
  {
   "attachments": {},
   "cell_type": "markdown",
   "metadata": {},
   "source": [
    "### Copying \n",
    "\n",
    "    Serupa dengan List Python, pada saat membuat referensi ke array NumPy, itu tidak membuat array yang berbeda.\n",
    "    Oleh karena itu, jika kita mengubah nilai menggunakan variabel referensi, itu juga mengubah array asli. \n",
    "    Jika tidak ingin merubah nilai asli menggunakan fungsi copy() \n",
    "    Fungsi tidak memiliki argumen yang diperlukan, dan mengembalikan array yang disalin.\n",
    "\n",
    "    Dalam contoh kode di bawah ini, c adalah referensi ke while d adalah salinannya. Oleh karena itu, perubahan c menyebabkan perubahan yang sama pada a, sedangkan perubahan d tidak mengubah nilai b."
   ]
  },
  {
   "cell_type": "code",
   "execution_count": 130,
   "metadata": {},
   "outputs": [],
   "source": [
    "x = [0,1]\n",
    "y = [5,6]\n",
    "z = x "
   ]
  },
  {
   "cell_type": "code",
   "execution_count": 131,
   "metadata": {},
   "outputs": [
    {
     "name": "stdout",
     "output_type": "stream",
     "text": [
      "[0, 1]\n",
      "#######\n",
      "[5, 1]\n"
     ]
    }
   ],
   "source": [
    "print(x)\n",
    "print(\"#\"*7)\n",
    "z[0] = 5\n",
    "print(x)"
   ]
  },
  {
   "cell_type": "code",
   "execution_count": 132,
   "metadata": {},
   "outputs": [
    {
     "name": "stdout",
     "output_type": "stream",
     "text": [
      "[10, 6]\n",
      "#######\n",
      "[5, 6]\n"
     ]
    }
   ],
   "source": [
    "p = y.copy()\n",
    "p[0] = 10 \n",
    "print(p)\n",
    "print(\"#\"*7)\n",
    "print(y)"
   ]
  },
  {
   "attachments": {},
   "cell_type": "markdown",
   "metadata": {},
   "source": [
    "_____"
   ]
  },
  {
   "attachments": {},
   "cell_type": "markdown",
   "metadata": {},
   "source": [
    "#### Basic array operations\n",
    "Addition, subtraction, multiplication, division, and more\n",
    "\n",
    "    Setelah Anda membuat array, Anda dapat mulai bekerja dengannya. Katakanlah, misalnya, Anda telah membuat dua array, satu disebut \"data\" dan satu lagi disebut \"ones\".\n",
    "\n",
    "    Anda dapat menambahkan array bersama dengan tanda plus.\n",
    "\n",
    "    data + ones\n",
    "\n",
    "    Anda tentu saja dapat melakukan lebih dari sekadar penambahan.\n",
    "\n",
    "    data - data yang * data data / data Operasi dasar sederhana dengan NumPy. Jika Anda ingin menemukan jumlah elemen dalam array, Anda akan menggunakan sum(). Ini berfungsi untuk larik 1D, larik 2D, dan larik dalam dimensi yang lebih tinggi.\n",
    "\n",
    "    data - ones\n",
    "    data * data\n",
    "    data / data\n",
    "\n",
    "    Operasi dasar sederhana dengan NumPy. Jika Anda ingin menemukan jumlah elemen dalam array, Anda akan menggunakan sum(). Ini berfungsi untuk larik 1D, larik 2D, dan larik dalam dimensi yang lebih tinggi."
   ]
  },
  {
   "cell_type": "code",
   "execution_count": 134,
   "metadata": {},
   "outputs": [
    {
     "name": "stdout",
     "output_type": "stream",
     "text": [
      "15\n"
     ]
    }
   ],
   "source": [
    "op_a = np.array([0,1,2,3,4,5]) #\n",
    "\n",
    "print(op_a.sum())"
   ]
  },
  {
   "cell_type": "code",
   "execution_count": 139,
   "metadata": {},
   "outputs": [
    {
     "name": "stdout",
     "output_type": "stream",
     "text": [
      "[4 6]\n",
      "[3 7]\n"
     ]
    }
   ],
   "source": [
    "op_b = np.array([[1,2],[3,4]])\n",
    "print(op_b.sum(axis=0))  # menjumlah yang baris \n",
    "print(op_b.sum(axis=1))  # menjumlah yang kolom "
   ]
  },
  {
   "cell_type": "code",
   "execution_count": 143,
   "metadata": {},
   "outputs": [
    {
     "name": "stdout",
     "output_type": "stream",
     "text": [
      "[1 2]\n",
      "[1. 1.]\n",
      "[2. 3.]\n",
      "[1. 2.]\n"
     ]
    }
   ],
   "source": [
    "op_data = np.array([1,2])\n",
    "print(op_data)\n",
    "\n",
    "ones = np.ones(2) \n",
    "print(ones)\n",
    "print(op_data + ones)\n",
    "print(op_data * ones)"
   ]
  },
  {
   "attachments": {},
   "cell_type": "markdown",
   "metadata": {},
   "source": [
    "_____"
   ]
  },
  {
   "attachments": {},
   "cell_type": "markdown",
   "metadata": {},
   "source": [
    "### Broadcasting\n",
    "\n",
    "\n",
    "    Ada kalanya Anda mungkin ingin melakukan operasi antara array dan satu angka (juga disebut operasi \n",
    "    antara vektor dan skalar) atau antara array dengan dua ukuran berbeda.\n",
    "\n",
    "    Misalnya, array Anda (kami akan menyebutnya \"data\") mungkin berisi informasi tentang jarak dalam mil \n",
    "    tetapi Anda ingin mengubah informasi tersebut menjadi kilometer. Anda dapat melakukan operasi ini dengan:\n",
    "    \n",
    "    data * 1.6\n",
    "\n",
    "<img src=\"https://i.ibb.co/t3Y0GvK/broadcast.png\" align=\"left\"> \n",
    "\n",
    "\n",
    "    NumPy memahami bahwa perkalian harus terjadi dengan setiap sel. Konsep itu disebut broadcasting.\n",
    "\n",
    "    Broadcasting adalah mekanisme yang memungkinkan NumPy untuk melakukan operasi pada array dari berbagai bentuk. \n",
    "    Dimensi array Anda harus kompatibel, misalnya, ketika dimensi kedua array sama \n",
    "    atau ketika salah satunya adalah 1. Jika dimensi tidak kompatibel, Anda akan mendapatkan kesalahan nilai.\n",
    "\n",
    "   \n",
    "   "
   ]
  },
  {
   "cell_type": "code",
   "execution_count": 144,
   "metadata": {},
   "outputs": [
    {
     "name": "stdout",
     "output_type": "stream",
     "text": [
      "[1.6 3.2]\n"
     ]
    }
   ],
   "source": [
    "print(op_data * 1.6)"
   ]
  },
  {
   "cell_type": "code",
   "execution_count": null,
   "metadata": {},
   "outputs": [],
   "source": []
  },
  {
   "attachments": {},
   "cell_type": "markdown",
   "metadata": {},
   "source": [
    "_____"
   ]
  },
  {
   "attachments": {},
   "cell_type": "markdown",
   "metadata": {},
   "source": [
    "## Function\n",
    "Beberapa fungsi utilitas dasar dari modul np.random adalah np.random.seed dan np.random.shuffle. Kami menggunakan fungsi np.random.seed untuk mengatur random seed, yang memungkinkan kami untuk mengontrol output dari fungsi pseudo-random. Fungsi mengambil satu bilangan bulat sebagai argumen, yang mewakili random seed.\n",
    "\n",
    "Kode di bawah ini menggunakan np.random.seed dengan seed random yang sama. Perhatikan bagaimana output dari \n",
    "fungsi random di setiap proses berikutnya adalah identik ketika ditetapkan random seed yang sama.\n",
    "Beberapa fungsi utilitas dasar dari modul np.random adalah np.random.seed dan np.random.shuffle. \n",
    "\n",
    "Dalam menggunakan fungsi np.random.seed untuk mengatur random seed, yang memungkinkan dilakukan \n",
    "untuk mengontrol output dari fungsi pseudo-acak. Fungsi mengambil satu bilangan bulat sebagai argumen, \n",
    "yang mewakili random seed.\n",
    "\n",
    "Kode di bawah ini menggunakan np.random.seed dengan seed acak yang sama. \n",
    "Perhatikan bagaimana output dari fungsi random di setiap proses berikutnya adalah identik ketika \n",
    "kita menetapkan random seed yang sama."
   ]
  },
  {
   "cell_type": "code",
   "execution_count": 145,
   "metadata": {},
   "outputs": [
    {
     "name": "stdout",
     "output_type": "stream",
     "text": [
      "[[1. 1.]]\n"
     ]
    }
   ],
   "source": [
    "fa = np.ones((1,2))\n",
    "print(fa)"
   ]
  },
  {
   "cell_type": "code",
   "execution_count": 147,
   "metadata": {},
   "outputs": [
    {
     "name": "stdout",
     "output_type": "stream",
     "text": [
      "[[9 9]\n",
      " [9 9]]\n"
     ]
    }
   ],
   "source": [
    "ffull = np.full((2,2),9)\n",
    "print(ffull)"
   ]
  },
  {
   "attachments": {},
   "cell_type": "markdown",
   "metadata": {},
   "source": [
    "________"
   ]
  },
  {
   "attachments": {},
   "cell_type": "markdown",
   "metadata": {},
   "source": [
    "### More Array Operations \n",
    "        Maximum, minimum, sum, mean, product, standard deviation, and more\n",
    "\n",
    "    NumPy juga melakukan fungsi agregasi. Selain min, max, dan sum, \n",
    "    Anda dapat dengan mudah menjalankan mean untuk mendapatkan rata-rata, \n",
    "    prod untuk mendapatkan hasil perkalian elemen, std untuk mendapatkan standar deviasi, dan banyak lagi.\n",
    "    \n",
    "    data.max()\n",
    "    data.min()\n",
    "    data.sum()"
   ]
  },
  {
   "cell_type": "code",
   "execution_count": 150,
   "metadata": {},
   "outputs": [
    {
     "name": "stdout",
     "output_type": "stream",
     "text": [
      "[1 2]\n",
      "2\n",
      "1\n",
      "3\n"
     ]
    }
   ],
   "source": [
    "print(op_data)\n",
    "print(op_data.max())\n",
    "print(op_data.min())\n",
    "print(op_data.sum())"
   ]
  },
  {
   "cell_type": "code",
   "execution_count": null,
   "metadata": {},
   "outputs": [],
   "source": []
  },
  {
   "cell_type": "code",
   "execution_count": null,
   "metadata": {},
   "outputs": [],
   "source": []
  },
  {
   "attachments": {},
   "cell_type": "markdown",
   "metadata": {},
   "source": [
    "_______"
   ]
  },
  {
   "attachments": {},
   "cell_type": "markdown",
   "metadata": {},
   "source": [
    "### save array into file "
   ]
  },
  {
   "cell_type": "code",
   "execution_count": 153,
   "metadata": {},
   "outputs": [
    {
     "name": "stdout",
     "output_type": "stream",
     "text": [
      "[[0.14442233 0.17112222 0.50001334 0.51133   ]\n",
      " [0.15442233 0.16112222 0.51001334 0.52133   ]\n",
      " [0.14442233 0.18112222 0.52001334 0.53133   ]]\n"
     ]
    }
   ],
   "source": [
    "array_A = np.array([[0.14442233351,0.1711222221,0.500013340,0.5113300000], \n",
    "                    [0.15442233351,0.1611222221,0.510013340,0.5213300000], \n",
    "                    [0.14442233351,0.1811222221,0.520013340,0.5313300000], \n",
    "                    ])\n",
    "print(array_A)"
   ]
  },
  {
   "cell_type": "code",
   "execution_count": 154,
   "metadata": {},
   "outputs": [],
   "source": [
    "np.save(\"mytestarraynumpy.npy\",array_A)"
   ]
  },
  {
   "cell_type": "code",
   "execution_count": 155,
   "metadata": {},
   "outputs": [
    {
     "name": "stdout",
     "output_type": "stream",
     "text": [
      "[[0.14442233 0.17112222 0.50001334 0.51133   ]\n",
      " [0.15442233 0.16112222 0.51001334 0.52133   ]\n",
      " [0.14442233 0.18112222 0.52001334 0.53133   ]]\n"
     ]
    }
   ],
   "source": [
    "dataload = np.load(\"mytestarraynumpy.npy\")\n",
    "print(dataload)"
   ]
  },
  {
   "attachments": {},
   "cell_type": "markdown",
   "metadata": {},
   "source": [
    "________"
   ]
  },
  {
   "attachments": {},
   "cell_type": "markdown",
   "metadata": {},
   "source": [
    "### Matrices\n",
    "\n",
    "Anda dapat meneruskan list of list Python untuk membuat matriks untuk mewakilinya di NumPy.\n",
    "\n",
    "Membuat Matriks\n",
    "np.array([[1,2],[3,4]])\n",
    "\n",
    "Kami juga dapat menggunakan metode yang sama yang kami sebutkan di atas (ones(), zeros(), dan random.random()) selama kami memberi mereka tupel yang menjelaskan dimensi matriks yang kami buat\n",
    "\n",
    "np.ones((3,2))\n",
    "np.nol((3,2))\n",
    "np.random.random((3,2))\n"
   ]
  },
  {
   "cell_type": "code",
   "execution_count": null,
   "metadata": {},
   "outputs": [],
   "source": []
  },
  {
   "cell_type": "code",
   "execution_count": null,
   "metadata": {},
   "outputs": [],
   "source": []
  },
  {
   "attachments": {},
   "cell_type": "markdown",
   "metadata": {},
   "source": [
    "_______"
   ]
  },
  {
   "attachments": {},
   "cell_type": "markdown",
   "metadata": {},
   "source": [
    "### Matrix Arithmetic\n",
    "    Kita dapat menjumlahkan dan mengalikan matriks menggunakan operator aritmatika (+ - * / ) \n",
    "    Jika kedua matriks tersebut berukuran sama. \n",
    "    Numpy menangani sebagai position-wise operations. \n",
    "    "
   ]
  },
  {
   "cell_type": "code",
   "execution_count": 156,
   "metadata": {},
   "outputs": [
    {
     "name": "stdout",
     "output_type": "stream",
     "text": [
      "[[1 2]\n",
      " [3 4]]\n"
     ]
    }
   ],
   "source": [
    "mdata = np.array([[1,2],[3,4]])\n",
    "print(mdata)\n"
   ]
  },
  {
   "cell_type": "code",
   "execution_count": 157,
   "metadata": {},
   "outputs": [
    {
     "name": "stdout",
     "output_type": "stream",
     "text": [
      "[[1. 1.]\n",
      " [1. 1.]]\n"
     ]
    }
   ],
   "source": [
    "ones= np.ones([2,2])\n",
    "print(ones)"
   ]
  },
  {
   "cell_type": "code",
   "execution_count": 158,
   "metadata": {},
   "outputs": [
    {
     "name": "stdout",
     "output_type": "stream",
     "text": [
      "[[2. 3.]\n",
      " [4. 5.]]\n"
     ]
    }
   ],
   "source": [
    "print(mdata+ones)"
   ]
  },
  {
   "attachments": {},
   "cell_type": "markdown",
   "metadata": {},
   "source": [
    "_________"
   ]
  },
  {
   "attachments": {},
   "cell_type": "markdown",
   "metadata": {},
   "source": [
    "### Dot Product \n",
    "    \n",
    "    Perbedaan utama yang harus dibuat dengan aritmatika adalah kasus perkalian matriks menggunakan produk titik. NumPy memberikan setiap matriks metode dot() yang dapat kita gunakan untuk melakukan operasi produk dot dengan matriks lain"
   ]
  },
  {
   "cell_type": "code",
   "execution_count": 159,
   "metadata": {},
   "outputs": [
    {
     "name": "stdout",
     "output_type": "stream",
     "text": [
      "\u001b[0;31mDocstring:\u001b[0m\n",
      "dot(a, b, out=None)\n",
      "\n",
      "Dot product of two arrays. Specifically,\n",
      "\n",
      "- If both `a` and `b` are 1-D arrays, it is inner product of vectors\n",
      "  (without complex conjugation).\n",
      "\n",
      "- If both `a` and `b` are 2-D arrays, it is matrix multiplication,\n",
      "  but using :func:`matmul` or ``a @ b`` is preferred.\n",
      "\n",
      "- If either `a` or `b` is 0-D (scalar), it is equivalent to :func:`multiply`\n",
      "  and using ``numpy.multiply(a, b)`` or ``a * b`` is preferred.\n",
      "\n",
      "- If `a` is an N-D array and `b` is a 1-D array, it is a sum product over\n",
      "  the last axis of `a` and `b`.\n",
      "\n",
      "- If `a` is an N-D array and `b` is an M-D array (where ``M>=2``), it is a\n",
      "  sum product over the last axis of `a` and the second-to-last axis of `b`::\n",
      "\n",
      "    dot(a, b)[i,j,k,m] = sum(a[i,j,:] * b[k,:,m])\n",
      "\n",
      "Parameters\n",
      "----------\n",
      "a : array_like\n",
      "    First argument.\n",
      "b : array_like\n",
      "    Second argument.\n",
      "out : ndarray, optional\n",
      "    Output argument. This must have the exact kind that would be returned\n",
      "    if it was not used. In particular, it must have the right type, must be\n",
      "    C-contiguous, and its dtype must be the dtype that would be returned\n",
      "    for `dot(a,b)`. This is a performance feature. Therefore, if these\n",
      "    conditions are not met, an exception is raised, instead of attempting\n",
      "    to be flexible.\n",
      "\n",
      "Returns\n",
      "-------\n",
      "output : ndarray\n",
      "    Returns the dot product of `a` and `b`.  If `a` and `b` are both\n",
      "    scalars or both 1-D arrays then a scalar is returned; otherwise\n",
      "    an array is returned.\n",
      "    If `out` is given, then it is returned.\n",
      "\n",
      "Raises\n",
      "------\n",
      "ValueError\n",
      "    If the last dimension of `a` is not the same size as\n",
      "    the second-to-last dimension of `b`.\n",
      "\n",
      "See Also\n",
      "--------\n",
      "vdot : Complex-conjugating dot product.\n",
      "tensordot : Sum products over arbitrary axes.\n",
      "einsum : Einstein summation convention.\n",
      "matmul : '@' operator as method with out parameter.\n",
      "linalg.multi_dot : Chained dot product.\n",
      "\n",
      "Examples\n",
      "--------\n",
      ">>> np.dot(3, 4)\n",
      "12\n",
      "\n",
      "Neither argument is complex-conjugated:\n",
      "\n",
      ">>> np.dot([2j, 3j], [2j, 3j])\n",
      "(-13+0j)\n",
      "\n",
      "For 2-D arrays it is the matrix product:\n",
      "\n",
      ">>> a = [[1, 0], [0, 1]]\n",
      ">>> b = [[4, 1], [2, 2]]\n",
      ">>> np.dot(a, b)\n",
      "array([[4, 1],\n",
      "       [2, 2]])\n",
      "\n",
      ">>> a = np.arange(3*4*5*6).reshape((3,4,5,6))\n",
      ">>> b = np.arange(3*4*5*6)[::-1].reshape((5,4,6,3))\n",
      ">>> np.dot(a, b)[2,3,2,1,2,2]\n",
      "499128\n",
      ">>> sum(a[2,3,2,:] * b[1,2,:,2])\n",
      "499128\n",
      "\u001b[0;31mType:\u001b[0m      function"
     ]
    }
   ],
   "source": [
    "np.dot?\n"
   ]
  },
  {
   "cell_type": "code",
   "execution_count": 160,
   "metadata": {},
   "outputs": [
    {
     "data": {
      "text/plain": [
       "12"
      ]
     },
     "execution_count": 160,
     "metadata": {},
     "output_type": "execute_result"
    }
   ],
   "source": [
    "np.dot(3,4)"
   ]
  },
  {
   "attachments": {},
   "cell_type": "markdown",
   "metadata": {},
   "source": [
    "______"
   ]
  },
  {
   "attachments": {},
   "cell_type": "markdown",
   "metadata": {},
   "source": [
    "### Matrix Indexing\n",
    "    Operasi pengindeksan dan pemotongan menjadi lebih berguna saat kita memanipulasi matriks\n",
    "    \n",
    "    \n",
    "   ```np.array([[1, 2], [3, 4], [5, 6]])```\n",
    "\n",
    "    \n",
    "<img src=\"https://i.ibb.co/4sS8HGD/Screen-Shot-2021-09-02-at-8-26-34-AM.png\" align=\"left\"> \n"
   ]
  },
  {
   "cell_type": "code",
   "execution_count": 168,
   "metadata": {},
   "outputs": [
    {
     "name": "stdout",
     "output_type": "stream",
     "text": [
      "[[1 2]\n",
      " [3 4]\n",
      " [5 6]]\n",
      "=====\n",
      "2\n",
      "=====\n",
      "[[3 4]\n",
      " [5 6]]\n",
      "=====\n",
      "[1 3]\n",
      "=====\n",
      "[2 4]\n",
      "=====\n",
      "[[1 2]\n",
      " [3 4]]\n"
     ]
    }
   ],
   "source": [
    "data = np.array([[1, 2], [3, 4], [5, 6]])\n",
    "print(data)\n",
    "print(\"=\"*5)\n",
    "print(data[0,1])\n",
    "print(\"=\"*5)\n",
    "print(data[1:3])\n",
    "print(\"=\"*5)\n",
    "print(data[0:2,0])\n",
    "print(\"=\"*5)\n",
    "print(data[0:2,1])\n",
    "print(\"=\"*5)\n",
    "print(data[0:2,:])"
   ]
  },
  {
   "cell_type": "code",
   "execution_count": null,
   "metadata": {},
   "outputs": [],
   "source": []
  },
  {
   "attachments": {},
   "cell_type": "markdown",
   "metadata": {},
   "source": [
    "<img src=\"https://i.ibb.co/4sS8HGD/Screen-Shot-2021-09-02-at-8-26-34-AM.png\" align=\"left\"> "
   ]
  },
  {
   "cell_type": "code",
   "execution_count": null,
   "metadata": {},
   "outputs": [],
   "source": []
  },
  {
   "attachments": {},
   "cell_type": "markdown",
   "metadata": {},
   "source": [
    "<img src=\"https://i.ibb.co/rQN75GL/numpy-indexing-arrays-width-1200.jpg\" align=\"left\"> \n"
   ]
  },
  {
   "cell_type": "code",
   "execution_count": 170,
   "metadata": {},
   "outputs": [
    {
     "name": "stdout",
     "output_type": "stream",
     "text": [
      "[ 1  2  3  4  5  6  7  8  9 10 11 12 13 14 15 16]\n",
      "[[ 1  2  3  4]\n",
      " [ 5  6  7  8]\n",
      " [ 9 10 11 12]\n",
      " [13 14 15 16]]\n"
     ]
    }
   ],
   "source": [
    "np_r = np.arange(1,17,1) \n",
    "print(np_r)\n",
    "np4x4 = np_r.reshape(4,4)\n",
    "print(np4x4)\n"
   ]
  },
  {
   "attachments": {},
   "cell_type": "markdown",
   "metadata": {},
   "source": [
    "<img src=\"https://i.ibb.co/rQN75GL/numpy-indexing-arrays-width-1200.jpg\" align=\"left\"> \n"
   ]
  },
  {
   "cell_type": "code",
   "execution_count": 180,
   "metadata": {},
   "outputs": [
    {
     "name": "stdout",
     "output_type": "stream",
     "text": [
      "[7 8]\n",
      "[ 2  6 10 14]\n",
      "[[11 12]\n",
      " [15 16]]\n",
      "[[ 5  7]\n",
      " [13 15]]\n",
      "[[ 1  3]\n",
      " [ 5  7]\n",
      " [ 9 11]\n",
      " [13 15]]\n"
     ]
    }
   ],
   "source": [
    "print(np4x4[1,2:])\n",
    "\n",
    "print(np4x4[:,1])\n",
    "print(np4x4[2:,2:])\n",
    "print(np4x4[1::2,::2])\n",
    "\n",
    "print(np4x4[0::1,::2])"
   ]
  },
  {
   "attachments": {},
   "cell_type": "markdown",
   "metadata": {},
   "source": [
    "____________"
   ]
  },
  {
   "attachments": {},
   "cell_type": "markdown",
   "metadata": {},
   "source": [
    "### Matrix Aggregation\n",
    "    Kita dapat menjumlahkan matriks dengan cara yang sama seperti kita menjumlahkan vector"
   ]
  },
  {
   "cell_type": "code",
   "execution_count": null,
   "metadata": {},
   "outputs": [],
   "source": []
  },
  {
   "cell_type": "code",
   "execution_count": null,
   "metadata": {},
   "outputs": [],
   "source": []
  },
  {
   "attachments": {},
   "cell_type": "markdown",
   "metadata": {},
   "source": [
    "_______"
   ]
  },
  {
   "attachments": {},
   "cell_type": "markdown",
   "metadata": {},
   "source": [
    "### Transposing and Reshaping¶\n",
    "\n",
    "Kebutuhan umum ketika berhadapan dengan matriks adalah kebutuhan untuk memutarnya. Ini sering terjadi ketika kita perlu mengambil produk titik dari dua matriks dan perlu menyelaraskan dimensi yang mereka bagi. Array NumPy memiliki properti nyaman yang disebut T untuk mendapatkan transpos matriks.\n",
    "\n",
    "\n",
    "mentraspose suatu array adalah proses mengubah posisi **element2 vektor baris menjadi vektor kolom demikian pula sebaliknya.* \n",
    "\n",
    "Menggunakan numpy , melakukan traspose suatu array dapat dilakukan : \n",
    " dengan cara memangil function **transpose()** atau memanggil properti **T** dari suatu array  "
   ]
  },
  {
   "cell_type": "code",
   "execution_count": 181,
   "metadata": {},
   "outputs": [
    {
     "name": "stdout",
     "output_type": "stream",
     "text": [
      "[[0 1]\n",
      " [1 2]\n",
      " [3 4]]\n"
     ]
    }
   ],
   "source": [
    "datat = np.array([[0,1],[1,2],[3,4]]) \n",
    "print(datat)"
   ]
  },
  {
   "cell_type": "code",
   "execution_count": 182,
   "metadata": {},
   "outputs": [
    {
     "name": "stdout",
     "output_type": "stream",
     "text": [
      "[[0 1 3]\n",
      " [1 2 4]]\n"
     ]
    }
   ],
   "source": [
    "print(datat.transpose())"
   ]
  },
  {
   "cell_type": "code",
   "execution_count": 183,
   "metadata": {},
   "outputs": [
    {
     "name": "stdout",
     "output_type": "stream",
     "text": [
      "[[0 1 3]\n",
      " [1 2 4]]\n"
     ]
    }
   ],
   "source": [
    "print(datat.T)"
   ]
  },
  {
   "cell_type": "code",
   "execution_count": 185,
   "metadata": {},
   "outputs": [
    {
     "name": "stdout",
     "output_type": "stream",
     "text": [
      "[[1]\n",
      " [2]\n",
      " [3]\n",
      " [4]\n",
      " [5]\n",
      " [6]]\n",
      "[[1 2]\n",
      " [3 4]\n",
      " [5 6]]\n",
      "[[1 2 3]\n",
      " [4 5 6]]\n"
     ]
    }
   ],
   "source": [
    "dataT = np.array([[1, 2, 3, 4, 5, 6]]).T\n",
    "print(dataT)\n",
    "\n",
    "\n",
    "print(dataT.reshape(3,2))\n",
    "print(dataT.reshape(2,3))\n"
   ]
  },
  {
   "attachments": {},
   "cell_type": "markdown",
   "metadata": {},
   "source": [
    "______"
   ]
  },
  {
   "attachments": {},
   "cell_type": "markdown",
   "metadata": {},
   "source": [
    "### N-Dimensional Array \n",
    "    NumPy dapat melakukan semua yang telah kita sebutkan dalam sejumlah dimensi. Struktur data pusatnya disebut ndarray (N-Dimensional Array) karena suatu alasan."
   ]
  },
  {
   "cell_type": "code",
   "execution_count": 187,
   "metadata": {},
   "outputs": [
    {
     "name": "stdout",
     "output_type": "stream",
     "text": [
      "[[0 1]\n",
      " [1 2]\n",
      " [3 4]]\n",
      "[0 1 1 2 3 4]\n"
     ]
    }
   ],
   "source": []
  },
  {
   "cell_type": "code",
   "execution_count": null,
   "metadata": {},
   "outputs": [],
   "source": []
  },
  {
   "attachments": {},
   "cell_type": "markdown",
   "metadata": {},
   "source": [
    "### Flatten N-Dimensional Array\n",
    "\n",
    "Ada dua cara populer untuk meratakan array: .flatten() dan .ravel(). Perbedaan utama antara keduanya adalah bahwa array baru yang dibuat menggunakan ravel() sebenarnya adalah referensi ke array induk. Ini berarti bahwa setiap perubahan pada array baru akan mempengaruhi array induk juga. Karena ravel tidak membuat salinan, ini hemat memori."
   ]
  },
  {
   "cell_type": "code",
   "execution_count": 188,
   "metadata": {},
   "outputs": [
    {
     "name": "stdout",
     "output_type": "stream",
     "text": [
      "[[0 1]\n",
      " [1 2]\n",
      " [3 4]]\n",
      "[0 1 1 2 3 4]\n"
     ]
    }
   ],
   "source": [
    "n_data = np.array([[0,1],[1,2],[3,4]]) \n",
    "print(n_data) #\n",
    "\n",
    "dataflat = n_data.flatten()\n",
    "print(dataflat) #"
   ]
  },
  {
   "attachments": {},
   "cell_type": "markdown",
   "metadata": {},
   "source": [
    "______"
   ]
  },
  {
   "attachments": {},
   "cell_type": "markdown",
   "metadata": {},
   "source": [
    "### Working with Math Formulas \n",
    "\n",
    "    Menerapkan rumus matematika yang bekerja pada array adalah salah satu hal yang membuat NumPy sangat dihormati di komunitas Python ilmiah.\n",
    "\n",
    "    Misalnya, ini adalah rumus mean square error (rumus utama yang digunakan dalam model pembelajaran mesin terawasi yang menangani regresi):\n",
    "\n",
    "\n",
    "Misalnya, ini adalah rumus mean square error (rumus utama yang digunakan dalam supervised machine learning model yang menangani regresi):\n",
    "\n",
    "<br>\n",
    "\n",
    "<img src=\"https://i.ibb.co/7tTftxS/Screen-Shot-2021-09-02-at-12-18-44-PM.png\" align=\"left\"> \n",
    "   \n"
   ]
  },
  {
   "attachments": {},
   "cell_type": "markdown",
   "metadata": {},
   "source": [
    "error (1/n) * np.sum(np.square(observed - prediction)) \n"
   ]
  },
  {
   "cell_type": "code",
   "execution_count": null,
   "metadata": {},
   "outputs": [],
   "source": []
  },
  {
   "cell_type": "code",
   "execution_count": null,
   "metadata": {},
   "outputs": [],
   "source": []
  },
  {
   "cell_type": "code",
   "execution_count": null,
   "metadata": {},
   "outputs": [],
   "source": []
  },
  {
   "attachments": {},
   "cell_type": "markdown",
   "metadata": {},
   "source": [
    "_______"
   ]
  },
  {
   "attachments": {},
   "cell_type": "markdown",
   "metadata": {},
   "source": [
    "Optional"
   ]
  },
  {
   "attachments": {},
   "cell_type": "markdown",
   "metadata": {},
   "source": [
    "<img src=\"https://i.ibb.co/WK6XHvh/a-numpy-structure.png\" align=\"left\"> \n"
   ]
  },
  {
   "cell_type": "code",
   "execution_count": null,
   "metadata": {},
   "outputs": [],
   "source": []
  },
  {
   "attachments": {},
   "cell_type": "markdown",
   "metadata": {},
   "source": [
    "<img src=\"https://i.ibb.co/MS7b4kK/b-numpy-view.png\" align=\"left\"> \n"
   ]
  },
  {
   "cell_type": "code",
   "execution_count": 194,
   "metadata": {},
   "outputs": [
    {
     "name": "stdout",
     "output_type": "stream",
     "text": [
      "[ 0  1  2  3  4  5  6  7  8  9 10 11]\n",
      "[[ 0  1  2]\n",
      " [ 3  4  5]\n",
      " [ 6  7  8]\n",
      " [ 9 10 11]]\n",
      "==========\n",
      "[[ 1  2]\n",
      " [ 4  5]\n",
      " [ 7  8]\n",
      " [10 11]]\n",
      "==========\n",
      "[[ 0  2]\n",
      " [ 3  5]\n",
      " [ 6  8]\n",
      " [ 9 11]]\n"
     ]
    }
   ],
   "source": [
    "x_np  =np.arange(12)\n",
    "print(x_np)\n",
    "x = x_np.reshape(4,3)\n",
    "print(x)\n",
    "print(\"==\"*5)\n",
    "print(x[:,1:])\n",
    "print(\"==\"*5)\n",
    "print(x[:,::2]) ## step 2 "
   ]
  },
  {
   "attachments": {},
   "cell_type": "markdown",
   "metadata": {},
   "source": [
    "<img src=\"https://i.ibb.co/YN5XSDY/c-numpy-indexing-copy.png\" align=\"left\"> \n"
   ]
  },
  {
   "cell_type": "code",
   "execution_count": null,
   "metadata": {},
   "outputs": [],
   "source": []
  },
  {
   "attachments": {},
   "cell_type": "markdown",
   "metadata": {},
   "source": [
    "<img src=\"https://i.ibb.co/Ybz0vBR/d-numpy-vectorization.png\" align=\"left\"> \n"
   ]
  },
  {
   "cell_type": "code",
   "execution_count": null,
   "metadata": {},
   "outputs": [],
   "source": []
  },
  {
   "attachments": {},
   "cell_type": "markdown",
   "metadata": {},
   "source": [
    "<img src=\"https://i.ibb.co/M2s1TqC/e-numpy-broadcasting.png\" align=\"left\"> \n"
   ]
  },
  {
   "cell_type": "code",
   "execution_count": null,
   "metadata": {},
   "outputs": [],
   "source": []
  },
  {
   "attachments": {},
   "cell_type": "markdown",
   "metadata": {},
   "source": [
    "<img src=\"https://i.ibb.co/FVbnhdc/f-numpy-reduction.png\" align=\"left\"> "
   ]
  },
  {
   "cell_type": "code",
   "execution_count": null,
   "metadata": {},
   "outputs": [],
   "source": []
  },
  {
   "attachments": {},
   "cell_type": "markdown",
   "metadata": {},
   "source": [
    "<img src=\"https://i.ibb.co/QbjwCCD/numpy-reduction2.png\" align=\"left\"> \n"
   ]
  },
  {
   "cell_type": "code",
   "execution_count": null,
   "metadata": {},
   "outputs": [],
   "source": []
  },
  {
   "attachments": {},
   "cell_type": "markdown",
   "metadata": {},
   "source": [
    "______"
   ]
  },
  {
   "attachments": {},
   "cell_type": "markdown",
   "metadata": {},
   "source": [
    "## Np read csv "
   ]
  },
  {
   "attachments": {},
   "cell_type": "markdown",
   "metadata": {},
   "source": [
    "import csv "
   ]
  },
  {
   "cell_type": "code",
   "execution_count": 196,
   "metadata": {},
   "outputs": [],
   "source": [
    "import csv "
   ]
  },
  {
   "cell_type": "code",
   "execution_count": 200,
   "metadata": {},
   "outputs": [
    {
     "name": "stdout",
     "output_type": "stream",
     "text": [
      "(8542, 6)\n",
      "51252\n",
      "[['Million Kilowatthours']]\n"
     ]
    }
   ],
   "source": [
    "data = [] \n",
    "filename = 'data/MER_T07_02A.csv'\n",
    "with open(filename,'r') as csvfile: \n",
    "    filre_reader = csv.reader(csvfile,delimiter=',')\n",
    "    for row in filre_reader:\n",
    "        data.append(row)\n",
    "    \n",
    "data = np.array(data)\n",
    "\n",
    "print(data.shape)\n",
    "print(data.size)\n",
    "print(data[-1:,-1:])\n",
    "\n",
    "np.save(open('data.npy','wb'), data)"
   ]
  },
  {
   "cell_type": "code",
   "execution_count": null,
   "metadata": {},
   "outputs": [],
   "source": []
  }
 ],
 "metadata": {
  "kernelspec": {
   "display_name": "Python 3",
   "language": "python",
   "name": "python3"
  },
  "language_info": {
   "codemirror_mode": {
    "name": "ipython",
    "version": 3
   },
   "file_extension": ".py",
   "mimetype": "text/x-python",
   "name": "python",
   "nbconvert_exporter": "python",
   "pygments_lexer": "ipython3",
   "version": "3.9.16"
  },
  "orig_nbformat": 4,
  "vscode": {
   "interpreter": {
    "hash": "397704579725e15f5c7cb49fe5f0341eb7531c82d19f2c29d197e8b64ab5776b"
   }
  }
 },
 "nbformat": 4,
 "nbformat_minor": 2
}
