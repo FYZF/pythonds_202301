{
 "cells": [
  {
   "attachments": {},
   "cell_type": "markdown",
   "metadata": {},
   "source": [
    "# Python Introduction 24 Jan 2023 \n",
    "\n"
   ]
  },
  {
   "attachments": {},
   "cell_type": "markdown",
   "metadata": {},
   "source": [
    "### Alur Pemrograman"
   ]
  },
  {
   "attachments": {},
   "cell_type": "markdown",
   "metadata": {},
   "source": [
    "<img src=\"https://i.ibb.co/0MkZvWh/logika.png\" width=\"600\" align=\"center\">"
   ]
  },
  {
   "attachments": {},
   "cell_type": "markdown",
   "metadata": {},
   "source": [
    "### Interpreter or compiler"
   ]
  },
  {
   "attachments": {},
   "cell_type": "markdown",
   "metadata": {},
   "source": [
    "<img src=\"https://i.ibb.co/9VXZG2F/Python-Execution-Model.png\" width=\"600\" align=\"center\">\n"
   ]
  },
  {
   "attachments": {},
   "cell_type": "markdown",
   "metadata": {},
   "source": [
    "<img src=\"https://i.ibb.co/PmKTKjX/python-compile.png\" width=\"600\" align=\"center\">\n"
   ]
  },
  {
   "attachments": {},
   "cell_type": "markdown",
   "metadata": {},
   "source": [
    "## Short Cut Jupyter  \n",
    "\n",
    "    While in command mode (press Esc to activate):\n",
    "\n",
    "Enter take you into edit mode\n",
    "* H show all shortcuts\n",
    "* Up select cell above\n",
    "* Down select cell below\n",
    "* Shift + Up extend selected cells above\n",
    "* Shift + Down extend selected cells below\n",
    "* A insert cell above\n",
    "* B insert cell below\n",
    "* X cut selected cells\n",
    "* C copy selected cells\n",
    "* V paste cells below\n",
    "* Shift + V paste cells above\n",
    "* D, D (press the key twice) delete selected cells\n",
    "* Z undo cell deletion\n",
    "* S Save and Checkpoint\n",
    "* Y change the cell type to Code\n",
    "* M change the cell type to Markdown\n",
    "* P open the command palette.\n",
    "* Shift + Space scroll notebook up\n",
    "* Space scroll notebook down\n",
    "* \n",
    "While in edit mode (pressEnter to activate)\n",
    "Esc take you into command mode\n",
    "Tab code completion or indent\n",
    "* Shift + Tab tooltip\n",
    "* Ctrl + ] indent\n",
    "* Ctrl + [ dedent\n",
    "* Ctrl + A select all\n",
    "* Ctrl + Z undo\n",
    "* Ctrl + Shift + Z or Ctrl + Y redo\n",
    "* Ctrl + Home go to cell start\n",
    "* Ctrl + End go to cell end\n",
    "* Ctrl + Left go one word left\n",
    "* Ctrl + Right go one word right\n",
    "* Ctrl + Shift + P open the command palette\n",
    "* Down move cursor down"
   ]
  },
  {
   "attachments": {},
   "cell_type": "markdown",
   "metadata": {},
   "source": [
    " ### Introduction, Data Types, and Variables"
   ]
  },
  {
   "attachments": {},
   "cell_type": "markdown",
   "metadata": {},
   "source": [
    "## Tipe Data Python \n",
    "- Integers \n",
    "- Floating \n",
    "- String \n",
    "- Boolean  "
   ]
  },
  {
   "attachments": {},
   "cell_type": "markdown",
   "metadata": {},
   "source": [
    "#### Integer"
   ]
  },
  {
   "cell_type": "code",
   "execution_count": 8,
   "metadata": {},
   "outputs": [
    {
     "name": "stdout",
     "output_type": "stream",
     "text": [
      "3\n",
      "12222233333344444444444444444423\n"
     ]
    }
   ],
   "source": [
    "print(1+2)\n",
    "print(12222233333344444444444444444422+1)"
   ]
  },
  {
   "cell_type": "code",
   "execution_count": 11,
   "metadata": {},
   "outputs": [
    {
     "name": "stdout",
     "output_type": "stream",
     "text": [
      "10\n",
      "<class 'int'>\n"
     ]
    }
   ],
   "source": [
    "number = 10 \n",
    "print(number)\n",
    "print(type(number))"
   ]
  },
  {
   "attachments": {},
   "cell_type": "markdown",
   "metadata": {},
   "source": [
    "#### floating point \n",
    "- tipe float menunjukan bilang floating point , ada digit decimal , karakter E atau e"
   ]
  },
  {
   "cell_type": "code",
   "execution_count": 13,
   "metadata": {},
   "outputs": [
    {
     "name": "stdout",
     "output_type": "stream",
     "text": [
      "7.5\n",
      "<class 'float'>\n"
     ]
    }
   ],
   "source": [
    "fnumber = 7.5 \n",
    "print(fnumber)\n",
    "print(type(fnumber))\n"
   ]
  },
  {
   "cell_type": "code",
   "execution_count": 14,
   "metadata": {},
   "outputs": [
    {
     "name": "stdout",
     "output_type": "stream",
     "text": [
      "4000000.0\n",
      "<class 'float'>\n"
     ]
    }
   ],
   "source": [
    "fnumber = .4e7 \n",
    "print(fnumber)\n",
    "print(type(fnumber))"
   ]
  },
  {
   "attachments": {},
   "cell_type": "markdown",
   "metadata": {},
   "source": [
    "#### String\n",
    "diapit dengan tanda kutip satu atau dua "
   ]
  },
  {
   "cell_type": "code",
   "execution_count": 16,
   "metadata": {},
   "outputs": [
    {
     "name": "stdout",
     "output_type": "stream",
     "text": [
      "IKetut 1 Gunawan\n",
      "<class 'str'>\n",
      "IKetut 1 Gunawan\n",
      "<class 'str'>\n"
     ]
    }
   ],
   "source": [
    "nama = \"IKetut 1 Gunawan\"\n",
    "print(nama)\n",
    "print(type(nama))\n",
    "\n",
    "nama = 'IKetut 1 Gunawan'\n",
    "print(nama)\n",
    "print(type(nama))"
   ]
  },
  {
   "attachments": {},
   "cell_type": "markdown",
   "metadata": {},
   "source": [
    "##### Boolean"
   ]
  },
  {
   "cell_type": "code",
   "execution_count": 22,
   "metadata": {},
   "outputs": [
    {
     "name": "stdout",
     "output_type": "stream",
     "text": [
      "True\n",
      "<class 'bool'>\n"
     ]
    }
   ],
   "source": [
    "ok = True\n",
    "print(ok)\n",
    "print(type(ok))"
   ]
  },
  {
   "cell_type": "code",
   "execution_count": 23,
   "metadata": {},
   "outputs": [
    {
     "name": "stdout",
     "output_type": "stream",
     "text": [
      "False\n",
      "<class 'bool'>\n"
     ]
    }
   ],
   "source": [
    "ok = False \n",
    "print(ok)\n",
    "print(type(ok))"
   ]
  },
  {
   "attachments": {},
   "cell_type": "markdown",
   "metadata": {},
   "source": [
    "#### Variable Assignment  \n"
   ]
  },
  {
   "cell_type": "code",
   "execution_count": 18,
   "metadata": {},
   "outputs": [
    {
     "name": "stdout",
     "output_type": "stream",
     "text": [
      "100\n",
      "100 100 100\n"
     ]
    }
   ],
   "source": [
    "x = y = z = 100 \n",
    "print(x)\n",
    "print(x,y,z)"
   ]
  },
  {
   "attachments": {},
   "cell_type": "markdown",
   "metadata": {},
   "source": [
    "#### Aturan variable names \n",
    "- variable tidak di depan dengan menggunakan angka \n",
    "- variable depan bisa menggunakan huruf (besar / kecil )\n",
    "- variable depan menggunakan tanda / karakter garis bawah (_) \n",
    "  "
   ]
  },
  {
   "cell_type": "code",
   "execution_count": 19,
   "metadata": {},
   "outputs": [
    {
     "name": "stdout",
     "output_type": "stream",
     "text": [
      "kosong\n"
     ]
    }
   ],
   "source": [
    "_ = \"kosong\"\n",
    "print(_)"
   ]
  },
  {
   "cell_type": "code",
   "execution_count": 20,
   "metadata": {},
   "outputs": [
    {
     "name": "stdout",
     "output_type": "stream",
     "text": [
      "1\n"
     ]
    }
   ],
   "source": [
    "_1 = 1 \n",
    "print(_1)"
   ]
  },
  {
   "cell_type": "code",
   "execution_count": 21,
   "metadata": {},
   "outputs": [
    {
     "name": "stdout",
     "output_type": "stream",
     "text": [
      "Iketut\n"
     ]
    }
   ],
   "source": [
    "nama_depan = \"Iketut\" \n",
    "print(nama_depan)"
   ]
  },
  {
   "cell_type": "code",
   "execution_count": 26,
   "metadata": {},
   "outputs": [
    {
     "ename": "SyntaxError",
     "evalue": "invalid decimal literal (711987817.py, line 4)",
     "output_type": "error",
     "traceback": [
      "\u001b[0;36m  Cell \u001b[0;32mIn[26], line 4\u001b[0;36m\u001b[0m\n\u001b[0;31m    1_huruf = \"abcde\"\u001b[0m\n\u001b[0m     ^\u001b[0m\n\u001b[0;31mSyntaxError\u001b[0m\u001b[0;31m:\u001b[0m invalid decimal literal\n"
     ]
    }
   ],
   "source": [
    "nama_belakang = 'Gunawan'\n",
    "print(nama_belakang)\n",
    "print(type(nama_belakang))\n",
    "1_huruf = \"abcde\"\n",
    "print(1_huruf)"
   ]
  },
  {
   "attachments": {},
   "cell_type": "markdown",
   "metadata": {},
   "source": [
    "#### Standard penamaan suatu variable \n",
    "-  Snake Case  : first_name  \n",
    "-  Camel Case  : jumlahAnakLakiLaki \n",
    "-  Pascal case : FistName"
   ]
  },
  {
   "cell_type": "code",
   "execution_count": 28,
   "metadata": {},
   "outputs": [
    {
     "name": "stdout",
     "output_type": "stream",
     "text": [
      "50000 10000 50000\n"
     ]
    }
   ],
   "source": [
    "first_name = \"Iketut\"\n",
    "last_name = \"Gunawan\"\n",
    "tgl_lahir = 1011989 \n",
    "amountSaldo = 50000 \n",
    "AmountSaldo = 10000\n",
    "amount_saldo = 1000 \n",
    "print(amountSaldo, AmountSaldo, amountSaldo)"
   ]
  },
  {
   "attachments": {},
   "cell_type": "markdown",
   "metadata": {},
   "source": [
    "#### Operator dan Expresion \n"
   ]
  },
  {
   "attachments": {},
   "cell_type": "markdown",
   "metadata": {},
   "source": [
    "##### Basic Arithmetic operation \n",
    "\n",
    "\n",
    "| Operator | Description |\tSyntax |\n",
    "-----------|:-----------:|--------:|\n",
    "| +\t       |Addition: adds two operands |\tx + y |\n",
    "|–\t | Subtraction: subtracts two operands |\tx – y |\n",
    "|*\t| Multiplication: multiplies two operands |\tx * y | \n",
    "|/\t| Division (float): divides the first operand by the second |\tx / y |\n",
    "|//\t| Division (floor): divides the first operand by the second |\tx // y | \n",
    "|%\t| Modulus: returns the remainder when first operand is divided by the second | x % y |\n",
    "|**\t| Power : Returns first raised to power second |\tx ** y |"
   ]
  },
  {
   "cell_type": "code",
   "execution_count": 30,
   "metadata": {},
   "outputs": [
    {
     "name": "stdout",
     "output_type": "stream",
     "text": [
      "30\n",
      "10\n",
      "2.0\n",
      "2\n",
      "0\n",
      "400\n",
      "1.5\n",
      "1\n"
     ]
    }
   ],
   "source": [
    "x = 10 \n",
    "y = 20 \n",
    "\n",
    "print(x+y)\n",
    "print(y-x) \n",
    "print(y/x)\n",
    "print(y//x)\n",
    "print(y%x)\n",
    "print(y**2)\n",
    "x = 3 \n",
    "y = 2 \n",
    "print(3 / 2) \n",
    "print(3 // 2)"
   ]
  },
  {
   "cell_type": "code",
   "execution_count": 31,
   "metadata": {},
   "outputs": [
    {
     "name": "stdout",
     "output_type": "stream",
     "text": [
      "9\n"
     ]
    }
   ],
   "source": [
    "x = 5 \n",
    "y = 4 \n",
    "x = x + y \n",
    "print(x)"
   ]
  },
  {
   "attachments": {},
   "cell_type": "markdown",
   "metadata": {},
   "source": [
    "#### Operator Penugasan\n",
    "|Operator |\tSimbol |\n",
    "|:--------|:-------|\n",
    "| Pengisian |\t= |\n",
    "| Penjumlahan |\t+= |\n",
    "| Pengurangan |\t-= |\n",
    "| Perkalian |\t*= |\n",
    "| Pembagian |\t/= |\n",
    "| Sisa Bagi |\t%= |\n",
    "| Pemangkatan |\t**= |"
   ]
  },
  {
   "cell_type": "code",
   "execution_count": 34,
   "metadata": {},
   "outputs": [
    {
     "name": "stdout",
     "output_type": "stream",
     "text": [
      "6\n",
      "2\n",
      "8\n",
      "2.0\n",
      "2\n",
      "0\n",
      "16\n"
     ]
    }
   ],
   "source": [
    "x = 2 \n",
    "y = 4 \n",
    "x += y \n",
    "print(x)\n",
    "\n",
    "x -= y \n",
    "print(x)\n",
    "\n",
    "x *= y \n",
    "print(x)\n",
    "x = 2 \n",
    "y = 4 \n",
    "y /=x \n",
    "print(y)\n",
    "x = 2 \n",
    "y = 4 \n",
    "y //=x \n",
    "print(y)\n",
    "x = 2 \n",
    "y = 4 \n",
    "y %= x \n",
    "print(y)\n",
    "x = 2 \n",
    "y = 4 \n",
    "y **= x \n",
    "print(y)"
   ]
  },
  {
   "attachments": {},
   "cell_type": "markdown",
   "metadata": {},
   "source": [
    "#### Comparison Operators \n",
    "\n",
    "- membandingkan dua nilai \n",
    "- dengan operator relasi\n",
    "  \n",
    "|Operator |\tSimbol |\n",
    "|:--------|:-------|\n",
    "|Lebih Besar|\t> |\n",
    "| Lebih Kecil |\t< |\n",
    "| Sama Dengan\t| == | \n",
    "| Tidak Sama dengan |\t!= |\n",
    "| Lebih Besar Sama dengan |\t>= |\n",
    "| Lebih Kecil Sama dengan |\t<= |"
   ]
  },
  {
   "cell_type": "code",
   "execution_count": 35,
   "metadata": {},
   "outputs": [],
   "source": [
    "a=10 \n",
    "b=20 "
   ]
  },
  {
   "cell_type": "code",
   "execution_count": 36,
   "metadata": {},
   "outputs": [
    {
     "name": "stdout",
     "output_type": "stream",
     "text": [
      "False\n"
     ]
    }
   ],
   "source": [
    "print( a == b)"
   ]
  },
  {
   "cell_type": "code",
   "execution_count": 37,
   "metadata": {},
   "outputs": [
    {
     "name": "stdout",
     "output_type": "stream",
     "text": [
      "True\n"
     ]
    }
   ],
   "source": [
    "print(a != b)"
   ]
  },
  {
   "cell_type": "code",
   "execution_count": 38,
   "metadata": {},
   "outputs": [
    {
     "name": "stdout",
     "output_type": "stream",
     "text": [
      "True\n"
     ]
    }
   ],
   "source": [
    "print(a < b)"
   ]
  },
  {
   "cell_type": "code",
   "execution_count": 39,
   "metadata": {},
   "outputs": [
    {
     "name": "stdout",
     "output_type": "stream",
     "text": [
      "False\n"
     ]
    }
   ],
   "source": [
    "print( a > b )"
   ]
  },
  {
   "cell_type": "code",
   "execution_count": 40,
   "metadata": {},
   "outputs": [
    {
     "name": "stdout",
     "output_type": "stream",
     "text": [
      "True\n"
     ]
    }
   ],
   "source": [
    "print(b > a)"
   ]
  },
  {
   "cell_type": "code",
   "execution_count": 41,
   "metadata": {},
   "outputs": [
    {
     "name": "stdout",
     "output_type": "stream",
     "text": [
      "False\n"
     ]
    }
   ],
   "source": [
    "print(a>=b)"
   ]
  },
  {
   "cell_type": "code",
   "execution_count": 42,
   "metadata": {},
   "outputs": [
    {
     "name": "stdout",
     "output_type": "stream",
     "text": [
      "True\n"
     ]
    }
   ],
   "source": [
    "a = 10 \n",
    "b = 10 \n",
    "print (a >= b) "
   ]
  },
  {
   "attachments": {},
   "cell_type": "markdown",
   "metadata": {},
   "source": [
    "#### Operator Logika \n",
    "- operasi logika  ( AND , OR , NOT )\n",
    "\n",
    "|Nama |\tSimbol di Python |\n",
    "|:----|:----------|\n",
    "| Logika AND |\tand |\n",
    "| Logika OR\t| or |\n",
    "| Negasi/kebalikan |\tnot |\n",
    "\n",
    "Contoh : \"and\" \n",
    "\n",
    "|x   and  y | result | \n",
    "|----------:|-----:|\n",
    "|True and True | True |\n",
    "|True and False | False |\n",
    "|False and False | False   | \n",
    "\n",
    "Contoh : \"or\" \n",
    "\n",
    "|x   or  y | result | \n",
    "|----------:|-----:|\n",
    "|True or True | True |\n",
    "|True or False | True |\n",
    "|False or True | True |\n",
    "|False or False | False   | \n"
   ]
  },
  {
   "cell_type": "code",
   "execution_count": 56,
   "metadata": {},
   "outputs": [],
   "source": [
    "a = True \n",
    "b = False "
   ]
  },
  {
   "cell_type": "code",
   "execution_count": 58,
   "metadata": {},
   "outputs": [
    {
     "name": "stdout",
     "output_type": "stream",
     "text": [
      "True\n",
      "True\n"
     ]
    }
   ],
   "source": [
    "x = a and b \n",
    "print(x)\n",
    "a = True \n",
    "b = True\n",
    "x = a and b \n",
    "print(x)"
   ]
  },
  {
   "attachments": {},
   "cell_type": "markdown",
   "metadata": {},
   "source": [
    "##### String manipulation\n"
   ]
  },
  {
   "cell_type": "code",
   "execution_count": 60,
   "metadata": {},
   "outputs": [
    {
     "name": "stdout",
     "output_type": "stream",
     "text": [
      "foobar\n",
      "foobarbaz\n",
      "Iketut Gunawan\n"
     ]
    }
   ],
   "source": [
    "# operator \n",
    "s = \"foo\"\n",
    "t = \"bar\"\n",
    "u = 'baz'\n",
    "\n",
    "print( s + t )\n",
    "print (s + t + u)\n",
    "print(\"Iketut\"+\" Gunawan\")"
   ]
  },
  {
   "cell_type": "code",
   "execution_count": 62,
   "metadata": {},
   "outputs": [
    {
     "name": "stdout",
     "output_type": "stream",
     "text": [
      "HalloHalloHalloHalloHallo\n",
      "===============\n"
     ]
    }
   ],
   "source": [
    "# operator * \n",
    "halo = \"Hallo\"\n",
    "print(halo * 5) \n",
    "\n",
    "print(\"=\"*15)"
   ]
  },
  {
   "cell_type": "code",
   "execution_count": 63,
   "metadata": {},
   "outputs": [
    {
     "name": "stdout",
     "output_type": "stream",
     "text": [
      "True\n",
      "False\n"
     ]
    }
   ],
   "source": [
    "# operatorn in \n",
    "halo = 'Halo' \n",
    "\n",
    "print( halo in 'Halo apa kabar ?')\n",
    "\n",
    "print( halo in 'halo apa kabar ?')"
   ]
  },
  {
   "cell_type": "code",
   "execution_count": 64,
   "metadata": {},
   "outputs": [
    {
     "name": "stdout",
     "output_type": "stream",
     "text": [
      "hacktiv8\n",
      "HACKTIV8\n",
      "hACKtiv8\n",
      "Hadapi dengan senyuman\n",
      "Hadapi Dengan Senyuman\n"
     ]
    }
   ],
   "source": [
    "# Case conversion \n",
    "s =\"HackTIV8\"\n",
    "\n",
    "# lower \n",
    "print(s.lower())\n",
    "\n",
    "# upder \n",
    "print(s.upper())\n",
    "\n",
    "# Swapcase \n",
    "print(s.swapcase())\n",
    "\n",
    "s = \"hadapi dengan senyuman\"\n",
    "\n",
    "print(s.capitalize())\n",
    "\n",
    "print(s.title())\n",
    "\n"
   ]
  },
  {
   "attachments": {},
   "cell_type": "markdown",
   "metadata": {},
   "source": [
    "#### Container "
   ]
  },
  {
   "attachments": {},
   "cell_type": "markdown",
   "metadata": {},
   "source": [
    "<img src=\"images/01_container.png\" width=\"600\" align=\"center\">"
   ]
  },
  {
   "attachments": {},
   "cell_type": "markdown",
   "metadata": {},
   "source": [
    "<img src=\"images/02_container.png\" width=\"600\" align=\"center\">"
   ]
  },
  {
   "attachments": {},
   "cell_type": "markdown",
   "metadata": {},
   "source": [
    "<img src=\"images/03_container.png\" width=\"600\" align=\"center\">"
   ]
  },
  {
   "attachments": {},
   "cell_type": "markdown",
   "metadata": {},
   "source": [
    "<img src=\"images/05_container.png\" width=\"600\" align=\"center\">"
   ]
  },
  {
   "attachments": {},
   "cell_type": "markdown",
   "metadata": {},
   "source": [
    "#### Python List \n",
    "\n",
    "- menggunakan tanda kurung siku\n",
    "\n",
    "Karakteristik penting dari List Python adalah sebagai berikut:\n",
    "\n",
    "\n",
    "* Lists di siapkan.\n",
    "* Lists dapat berisi objek sembarang.\n",
    "* Elemen Lists dapat diakses dengan indeks.\n",
    "* List dapat masukan ke kedalaman yang bebas.\n",
    "* List bisa berubah.\n",
    "* List bersifat dinamis."
   ]
  },
  {
   "cell_type": "code",
   "execution_count": 65,
   "metadata": {},
   "outputs": [
    {
     "name": "stdout",
     "output_type": "stream",
     "text": [
      "['budi', 'Joko', 'Jono', 'Bowo']\n",
      "<class 'list'>\n"
     ]
    }
   ],
   "source": [
    "names = ['budi','Joko','Jono',\"Bowo\"] \n",
    "print(names)\n",
    "print(type(names))\n"
   ]
  },
  {
   "cell_type": "code",
   "execution_count": 66,
   "metadata": {},
   "outputs": [
    {
     "name": "stdout",
     "output_type": "stream",
     "text": [
      "['budi', 'Joko', 100, 10.1]\n",
      "<class 'list'>\n"
     ]
    }
   ],
   "source": [
    "vara = ['budi','Joko',100,10.1]\n",
    "print(vara)\n",
    "print(type(vara))"
   ]
  },
  {
   "cell_type": "code",
   "execution_count": 71,
   "metadata": {},
   "outputs": [
    {
     "name": "stdout",
     "output_type": "stream",
     "text": [
      "False\n",
      "True\n"
     ]
    }
   ],
   "source": [
    "a = ['a1','b1','c1','d1','e1','f1']\n",
    "b = ['a1','c1','b1','f1','e1','d1']\n",
    "c = ['a1','b1','c1','d1','e1','f1']\n",
    "\n",
    "print(a == b) \n",
    "print(a == c)"
   ]
  },
  {
   "cell_type": "code",
   "execution_count": 72,
   "metadata": {},
   "outputs": [
    {
     "name": "stdout",
     "output_type": "stream",
     "text": [
      "a1\n"
     ]
    }
   ],
   "source": [
    "print(a[0]) "
   ]
  },
  {
   "cell_type": "code",
   "execution_count": 73,
   "metadata": {},
   "outputs": [
    {
     "name": "stdout",
     "output_type": "stream",
     "text": [
      "f1\n"
     ]
    }
   ],
   "source": [
    "print(a[5])"
   ]
  },
  {
   "cell_type": "code",
   "execution_count": 74,
   "metadata": {},
   "outputs": [
    {
     "name": "stdout",
     "output_type": "stream",
     "text": [
      "f1\n"
     ]
    }
   ],
   "source": [
    "print(a[-1])"
   ]
  },
  {
   "attachments": {},
   "cell_type": "markdown",
   "metadata": {},
   "source": [
    "![alt text](https://i.ibb.co/2dwyz0n/list.png \"List Element\")\n"
   ]
  },
  {
   "cell_type": "code",
   "execution_count": 76,
   "metadata": {},
   "outputs": [
    {
     "name": "stdout",
     "output_type": "stream",
     "text": [
      "corge\n",
      "corge\n"
     ]
    }
   ],
   "source": [
    "strlist = ['foo','bar','baz','qux','quux','corge']\n",
    "print(strlist[5])\n",
    "print(strlist[-1])"
   ]
  },
  {
   "cell_type": "code",
   "execution_count": 77,
   "metadata": {},
   "outputs": [
    {
     "name": "stdout",
     "output_type": "stream",
     "text": [
      "quux\n"
     ]
    }
   ],
   "source": [
    "print(strlist[-2])"
   ]
  },
  {
   "cell_type": "code",
   "execution_count": 79,
   "metadata": {},
   "outputs": [
    {
     "name": "stdout",
     "output_type": "stream",
     "text": [
      "6\n"
     ]
    }
   ],
   "source": [
    "panjanglist = len(strlist)\n",
    "print(panjanglist)"
   ]
  },
  {
   "cell_type": "code",
   "execution_count": 80,
   "metadata": {},
   "outputs": [
    {
     "name": "stdout",
     "output_type": "stream",
     "text": [
      "corge\n"
     ]
    }
   ],
   "source": [
    "print(strlist[panjanglist-1])"
   ]
  },
  {
   "cell_type": "code",
   "execution_count": 81,
   "metadata": {},
   "outputs": [
    {
     "name": "stdout",
     "output_type": "stream",
     "text": [
      "corge\n"
     ]
    }
   ],
   "source": [
    "print(strlist[len(strlist) - 1])"
   ]
  },
  {
   "cell_type": "code",
   "execution_count": 78,
   "metadata": {},
   "outputs": [
    {
     "ename": "IndexError",
     "evalue": "list index out of range",
     "output_type": "error",
     "traceback": [
      "\u001b[0;31m---------------------------------------------------------------------------\u001b[0m",
      "\u001b[0;31mIndexError\u001b[0m                                Traceback (most recent call last)",
      "Cell \u001b[0;32mIn[78], line 1\u001b[0m\n\u001b[0;32m----> 1\u001b[0m \u001b[39mprint\u001b[39m(\u001b[39mprint\u001b[39m(strlist[\u001b[39m6\u001b[39;49m]))\n",
      "\u001b[0;31mIndexError\u001b[0m: list index out of range"
     ]
    }
   ],
   "source": [
    "print(print(strlist[6]))"
   ]
  },
  {
   "attachments": {},
   "cell_type": "markdown",
   "metadata": {},
   "source": [
    "![alt text](https://i.ibb.co/HBpJ63P/list2.png \"List Element\")"
   ]
  },
  {
   "cell_type": "markdown",
   "metadata": {},
   "source": []
  },
  {
   "cell_type": "code",
   "execution_count": 82,
   "metadata": {},
   "outputs": [
    {
     "data": {
      "text/plain": [
       "['bar', 'baz', 'qux']"
      ]
     },
     "execution_count": 82,
     "metadata": {},
     "output_type": "execute_result"
    }
   ],
   "source": [
    "strlist = ['foo','bar','baz','qux','quux','corge']\n",
    "\n",
    "strlist[1:4]"
   ]
  },
  {
   "cell_type": "code",
   "execution_count": 83,
   "metadata": {},
   "outputs": [
    {
     "data": {
      "text/plain": [
       "['foo', 'bar', 'baz', 'qux']"
      ]
     },
     "execution_count": 83,
     "metadata": {},
     "output_type": "execute_result"
    }
   ],
   "source": [
    "strlist[0:4]"
   ]
  },
  {
   "cell_type": "code",
   "execution_count": 84,
   "metadata": {},
   "outputs": [
    {
     "data": {
      "text/plain": [
       "['foo', 'bar', 'baz', 'qux']"
      ]
     },
     "execution_count": 84,
     "metadata": {},
     "output_type": "execute_result"
    }
   ],
   "source": [
    "strlist[:4]"
   ]
  },
  {
   "cell_type": "code",
   "execution_count": 85,
   "metadata": {},
   "outputs": [
    {
     "data": {
      "text/plain": [
       "['bar', 'baz', 'qux', 'quux', 'corge']"
      ]
     },
     "execution_count": 85,
     "metadata": {},
     "output_type": "execute_result"
    }
   ],
   "source": [
    "strlist[1:]"
   ]
  },
  {
   "cell_type": "code",
   "execution_count": 86,
   "metadata": {},
   "outputs": [
    {
     "name": "stdout",
     "output_type": "stream",
     "text": [
      "['foo', 10, 'baz', 'qux', 'quux', 'corge']\n"
     ]
    }
   ],
   "source": [
    "strlist[1] = 10\n",
    "print(strlist)"
   ]
  },
  {
   "cell_type": "code",
   "execution_count": 87,
   "metadata": {},
   "outputs": [
    {
     "name": "stdout",
     "output_type": "stream",
     "text": [
      "['foo', 10, 'baz', 'quux', 'corge']\n"
     ]
    }
   ],
   "source": [
    "del strlist[3]\n",
    "print(strlist)"
   ]
  },
  {
   "cell_type": "code",
   "execution_count": 89,
   "metadata": {},
   "outputs": [
    {
     "name": "stdout",
     "output_type": "stream",
     "text": [
      "[10, 'baz']\n"
     ]
    }
   ],
   "source": [
    "print(strlist[1:3])"
   ]
  },
  {
   "cell_type": "code",
   "execution_count": 90,
   "metadata": {},
   "outputs": [
    {
     "name": "stdout",
     "output_type": "stream",
     "text": [
      "['foo', 1.1, 2, 3, 5.5, 10, 'quux', 'corge']\n"
     ]
    }
   ],
   "source": [
    "strlist[1:3] = [1.1,2,3,5.5,10]\n",
    "print(strlist)"
   ]
  },
  {
   "cell_type": "code",
   "execution_count": 104,
   "metadata": {},
   "outputs": [
    {
     "name": "stdout",
     "output_type": "stream",
     "text": [
      "True\n",
      "False\n"
     ]
    }
   ],
   "source": [
    "buah = ['apel','jeruk','mangga','durian','rambutan']\n",
    "print('jeruk' in buah)\n",
    "print('Jeruk' in buah)"
   ]
  },
  {
   "cell_type": "code",
   "execution_count": 93,
   "metadata": {},
   "outputs": [
    {
     "data": {
      "text/plain": [
       "2"
      ]
     },
     "execution_count": 93,
     "metadata": {},
     "output_type": "execute_result"
    }
   ],
   "source": [
    "buah.index('mangga')"
   ]
  },
  {
   "cell_type": "code",
   "execution_count": 94,
   "metadata": {},
   "outputs": [
    {
     "ename": "ValueError",
     "evalue": "'anggur' is not in list",
     "output_type": "error",
     "traceback": [
      "\u001b[0;31m---------------------------------------------------------------------------\u001b[0m",
      "\u001b[0;31mValueError\u001b[0m                                Traceback (most recent call last)",
      "Cell \u001b[0;32mIn[94], line 1\u001b[0m\n\u001b[0;32m----> 1\u001b[0m buah\u001b[39m.\u001b[39;49mindex(\u001b[39m'\u001b[39;49m\u001b[39manggur\u001b[39;49m\u001b[39m'\u001b[39;49m)\n",
      "\u001b[0;31mValueError\u001b[0m: 'anggur' is not in list"
     ]
    }
   ],
   "source": [
    "buah.index('anggur')"
   ]
  },
  {
   "cell_type": "code",
   "execution_count": 105,
   "metadata": {},
   "outputs": [
    {
     "name": "stdout",
     "output_type": "stream",
     "text": [
      "['apel', 'jeruk', 'mangga', 'durian', 'rambutan', 'anggur']\n"
     ]
    }
   ],
   "source": [
    "buah.append('anggur') \n",
    "print(buah)"
   ]
  },
  {
   "cell_type": "code",
   "execution_count": 106,
   "metadata": {},
   "outputs": [
    {
     "name": "stdout",
     "output_type": "stream",
     "text": [
      "['apel', 'jeruk', 'durian', 'rambutan', 'anggur']\n"
     ]
    }
   ],
   "source": [
    "buah.remove('mangga')\n",
    "print(buah)"
   ]
  },
  {
   "cell_type": "code",
   "execution_count": 101,
   "metadata": {},
   "outputs": [
    {
     "name": "stdout",
     "output_type": "stream",
     "text": [
      "durian telah di delte\n"
     ]
    }
   ],
   "source": [
    "buah_delete = buah.pop(2) # delete berdasarkan index dan mereturn value didelte\n",
    "print(f\"{buah_delete} telah di delte\")"
   ]
  },
  {
   "cell_type": "code",
   "execution_count": 107,
   "metadata": {},
   "outputs": [
    {
     "name": "stdout",
     "output_type": "stream",
     "text": [
      "['apel', 'jeruk', 'manggis', 'durian', 'rambutan', 'anggur']\n"
     ]
    }
   ],
   "source": [
    "buah.insert(2,\"manggis\")\n",
    "print(buah)"
   ]
  },
  {
   "cell_type": "code",
   "execution_count": 109,
   "metadata": {},
   "outputs": [
    {
     "name": "stdout",
     "output_type": "stream",
     "text": [
      "['anggur', 'apel', 'durian', 'jeruk', 'manggis', 'rambutan']\n",
      "<class 'list'>\n"
     ]
    }
   ],
   "source": [
    "buah.sort()\n",
    "print(buah)\n",
    "print(type(buah))"
   ]
  },
  {
   "cell_type": "code",
   "execution_count": 111,
   "metadata": {},
   "outputs": [
    {
     "name": "stdout",
     "output_type": "stream",
     "text": [
      "['anggur', 'apel', 'durian', 'jeruk', 'manggis', 'rambutan']\n",
      "<class 'list'>\n"
     ]
    }
   ],
   "source": [
    "buah_sorted = sorted(buah)\n",
    "print(buah_sorted)\n",
    "print(type(buah_sorted))"
   ]
  },
  {
   "attachments": {},
   "cell_type": "markdown",
   "metadata": {},
   "source": [
    "#### Python Tuples \n",
    "menggunakan kurung tupup '()' \n",
    "tidak bisa di rubah "
   ]
  },
  {
   "cell_type": "code",
   "execution_count": 113,
   "metadata": {},
   "outputs": [
    {
     "name": "stdout",
     "output_type": "stream",
     "text": [
      "('anggur', 'apel', 'durian', 'jeruk', 'manggis', 'rambutan')\n",
      "<class 'tuple'>\n"
     ]
    }
   ],
   "source": [
    "buaht = ('anggur', 'apel', 'durian', 'jeruk', 'manggis', 'rambutan')\n",
    "print(buaht)\n",
    "print(type(buaht))"
   ]
  },
  {
   "cell_type": "code",
   "execution_count": 114,
   "metadata": {},
   "outputs": [
    {
     "name": "stdout",
     "output_type": "stream",
     "text": [
      "rambutan\n"
     ]
    }
   ],
   "source": [
    "print(buaht[-1])"
   ]
  },
  {
   "cell_type": "code",
   "execution_count": 115,
   "metadata": {},
   "outputs": [
    {
     "ename": "TypeError",
     "evalue": "'tuple' object does not support item assignment",
     "output_type": "error",
     "traceback": [
      "\u001b[0;31m---------------------------------------------------------------------------\u001b[0m",
      "\u001b[0;31mTypeError\u001b[0m                                 Traceback (most recent call last)",
      "Cell \u001b[0;32mIn[115], line 1\u001b[0m\n\u001b[0;32m----> 1\u001b[0m buaht[\u001b[39m0\u001b[39;49m] \u001b[39m=\u001b[39m \u001b[39m'\u001b[39m\u001b[39msemanggka\u001b[39m\u001b[39m'\u001b[39m\n\u001b[1;32m      2\u001b[0m \u001b[39mprint\u001b[39m(buaht)\n",
      "\u001b[0;31mTypeError\u001b[0m: 'tuple' object does not support item assignment"
     ]
    }
   ],
   "source": [
    "buaht[0] = 'semanggka'\n",
    "print(buaht)"
   ]
  },
  {
   "cell_type": "code",
   "execution_count": 117,
   "metadata": {},
   "outputs": [
    {
     "name": "stdout",
     "output_type": "stream",
     "text": [
      "satu dua tiga\n"
     ]
    }
   ],
   "source": [
    "(x1, x2,x3) = ('satu','dua','tiga')\n",
    "print(x1,x2,x3)"
   ]
  },
  {
   "cell_type": "code",
   "execution_count": 118,
   "metadata": {},
   "outputs": [
    {
     "ename": "ValueError",
     "evalue": "too many values to unpack (expected 2)",
     "output_type": "error",
     "traceback": [
      "\u001b[0;31m---------------------------------------------------------------------------\u001b[0m",
      "\u001b[0;31mValueError\u001b[0m                                Traceback (most recent call last)",
      "Cell \u001b[0;32mIn[118], line 1\u001b[0m\n\u001b[0;32m----> 1\u001b[0m (x1, x2) \u001b[39m=\u001b[39m (\u001b[39m'\u001b[39m\u001b[39msatu\u001b[39m\u001b[39m'\u001b[39m,\u001b[39m'\u001b[39m\u001b[39mdua\u001b[39m\u001b[39m'\u001b[39m,\u001b[39m'\u001b[39m\u001b[39mtiga\u001b[39m\u001b[39m'\u001b[39m)\n",
      "\u001b[0;31mValueError\u001b[0m: too many values to unpack (expected 2)"
     ]
    }
   ],
   "source": [
    "(x1, x2) = ('satu','dua','tiga')\n"
   ]
  },
  {
   "cell_type": "code",
   "execution_count": 119,
   "metadata": {},
   "outputs": [
    {
     "name": "stdout",
     "output_type": "stream",
     "text": [
      "(1, 2, 3, 'RUN!!!!')\n",
      "<class 'tuple'>\n"
     ]
    }
   ],
   "source": [
    "countdown = 1,2,3, \"RUN!!!!\"\n",
    "print(countdown)\n",
    "print(type(countdown))"
   ]
  },
  {
   "cell_type": "code",
   "execution_count": 120,
   "metadata": {},
   "outputs": [
    {
     "name": "stdout",
     "output_type": "stream",
     "text": [
      "(1,)\n"
     ]
    }
   ],
   "source": [
    "single = (1,)\n",
    "print(single)"
   ]
  },
  {
   "cell_type": "code",
   "execution_count": 121,
   "metadata": {},
   "outputs": [
    {
     "name": "stdout",
     "output_type": "stream",
     "text": [
      " x : 4, 3 \n",
      " x : 5, 2 \n",
      " x : 7, 7 \n",
      " x : 9, 9 \n"
     ]
    }
   ],
   "source": [
    "# list of tupple \n",
    "point = [(4,3),(5,2),(7,7),(9,9)]\n",
    "\n",
    "for p in point:\n",
    "    print(f\" x : {p[0]}, {p[1]} \")"
   ]
  },
  {
   "attachments": {},
   "cell_type": "markdown",
   "metadata": {},
   "source": [
    "### Python Dictorynary \n",
    "-  {} \n",
    "-  isi  bisa berupa list \n",
    "-  isi bisa berupa object  \n",
    "-  bisa berubah dan dinamis \n",
    "-  Key dan Value ( dapat diakses menggunakan key)\n",
    "-  Key string \n",
    "-  key dan value di pisahkan menggunakan titik dua ':'"
   ]
  },
  {
   "attachments": {},
   "cell_type": "markdown",
   "metadata": {},
   "source": [
    "<img src=\"https://i.ibb.co/zRsctx8/mlb.png\" width=\"400\" align=\"center\">"
   ]
  },
  {
   "cell_type": "code",
   "execution_count": 122,
   "metadata": {},
   "outputs": [],
   "source": [
    "MLB_team = {\n",
    "    'Colorado': 'Rockies',\n",
    "    'Boston': 'Red Sox',\n",
    "    'Minnesota': 'Twins',\n",
    "    'Milwaukee': 'Brewers',\n",
    "    'Seattle': 'Mariners'\n",
    "}"
   ]
  },
  {
   "cell_type": "code",
   "execution_count": 123,
   "metadata": {},
   "outputs": [
    {
     "name": "stdout",
     "output_type": "stream",
     "text": [
      "Red Sox\n"
     ]
    }
   ],
   "source": [
    "print(MLB_team['Boston'])\n"
   ]
  },
  {
   "cell_type": "code",
   "execution_count": 124,
   "metadata": {},
   "outputs": [
    {
     "ename": "KeyError",
     "evalue": "'Boston '",
     "output_type": "error",
     "traceback": [
      "\u001b[0;31m---------------------------------------------------------------------------\u001b[0m",
      "\u001b[0;31mKeyError\u001b[0m                                  Traceback (most recent call last)",
      "Cell \u001b[0;32mIn[124], line 1\u001b[0m\n\u001b[0;32m----> 1\u001b[0m \u001b[39mprint\u001b[39m(MLB_team[\u001b[39m'\u001b[39;49m\u001b[39mBoston \u001b[39;49m\u001b[39m'\u001b[39;49m])\n",
      "\u001b[0;31mKeyError\u001b[0m: 'Boston '"
     ]
    }
   ],
   "source": [
    "print(MLB_team['Boston '])"
   ]
  },
  {
   "cell_type": "code",
   "execution_count": 125,
   "metadata": {},
   "outputs": [],
   "source": [
    "MLB_team['Boston'] = 'Satria Muda'"
   ]
  },
  {
   "cell_type": "code",
   "execution_count": 126,
   "metadata": {},
   "outputs": [
    {
     "name": "stdout",
     "output_type": "stream",
     "text": [
      "{'Colorado': 'Rockies', 'Boston': 'Satria Muda', 'Minnesota': 'Twins', 'Milwaukee': 'Brewers', 'Seattle': 'Mariners'}\n"
     ]
    }
   ],
   "source": [
    "print(MLB_team)"
   ]
  },
  {
   "cell_type": "code",
   "execution_count": 127,
   "metadata": {},
   "outputs": [
    {
     "name": "stdout",
     "output_type": "stream",
     "text": [
      "{'Colorado': 'Rockies', 'Minnesota': 'Twins', 'Milwaukee': 'Brewers', 'Seattle': 'Mariners'}\n"
     ]
    }
   ],
   "source": [
    "del(MLB_team['Boston'])\n",
    "print(MLB_team)"
   ]
  },
  {
   "cell_type": "code",
   "execution_count": 128,
   "metadata": {},
   "outputs": [
    {
     "name": "stdout",
     "output_type": "stream",
     "text": [
      "{'Budi': 1000, 'Wati': 50000, 'Iwan': 3000}\n",
      "50000\n",
      "{'Budi': 1000, 'Iwan': 3000}\n"
     ]
    }
   ],
   "source": [
    "salaries = {\n",
    "    \"Budi\":1000, \"Wati\":50000, \"Iwan\":3000\n",
    "}\n",
    "print(salaries)\n",
    "data_element = salaries.pop('Wati')\n",
    "print(data_element)\n",
    "print(salaries)"
   ]
  },
  {
   "cell_type": "code",
   "execution_count": 129,
   "metadata": {},
   "outputs": [
    {
     "data": {
      "text/plain": [
       "dict"
      ]
     },
     "execution_count": 129,
     "metadata": {},
     "output_type": "execute_result"
    }
   ],
   "source": [
    "person = {} \n",
    "type(person)"
   ]
  },
  {
   "cell_type": "code",
   "execution_count": 130,
   "metadata": {},
   "outputs": [],
   "source": [
    "person['fname'] = \"IKetut\"\n",
    "person[\"lname\"] = 'Gunawan' \n",
    "person['age']=45 \n",
    "person[\"children\"] =['Yusuf','Sulaiman','Ibrahim','Fatimah']\n",
    "person['pets'] = [{'keysArr': ['ath', 'atl', 'circulatingSupply'],'Dog':'Jumba'}]\n",
    "person[\"skill\"] = {\"programming\":['Java','Golang','Python','Solidity'],\n",
    "                   \"database\":{\"nosql\":['MonggoDb','Neo4J'],\"rdbms\":['Mysql','PostgreSQL','Oracle']}}"
   ]
  },
  {
   "cell_type": "code",
   "execution_count": 131,
   "metadata": {},
   "outputs": [
    {
     "name": "stdout",
     "output_type": "stream",
     "text": [
      "{'fname': 'IKetut', 'lname': 'Gunawan', 'age': 45, 'children': ['Yusuf', 'Sulaiman', 'Ibrahim', 'Fatimah'], 'pets': [{'keysArr': ['ath', 'atl', 'circulatingSupply'], 'Dog': 'Jumba'}], 'skill': {'programming': ['Java', 'Golang', 'Python', 'Solidity'], 'database': {'nosql': ['MonggoDb', 'Neo4J'], 'rdbms': ['Mysql', 'PostgreSQL', 'Oracle']}}}\n"
     ]
    }
   ],
   "source": [
    "print(person)"
   ]
  },
  {
   "cell_type": "code",
   "execution_count": 133,
   "metadata": {},
   "outputs": [
    {
     "name": "stdout",
     "output_type": "stream",
     "text": [
      "{\n",
      "    \"fname\": \"IKetut\",\n",
      "    \"lname\": \"Gunawan\",\n",
      "    \"age\": 45,\n",
      "    \"children\": [\n",
      "        \"Yusuf\",\n",
      "        \"Sulaiman\",\n",
      "        \"Ibrahim\",\n",
      "        \"Fatimah\"\n",
      "    ],\n",
      "    \"pets\": [\n",
      "        {\n",
      "            \"keysArr\": [\n",
      "                \"ath\",\n",
      "                \"atl\",\n",
      "                \"circulatingSupply\"\n",
      "            ],\n",
      "            \"Dog\": \"Jumba\"\n",
      "        }\n",
      "    ],\n",
      "    \"skill\": {\n",
      "        \"programming\": [\n",
      "            \"Java\",\n",
      "            \"Golang\",\n",
      "            \"Python\",\n",
      "            \"Solidity\"\n",
      "        ],\n",
      "        \"database\": {\n",
      "            \"nosql\": [\n",
      "                \"MonggoDb\",\n",
      "                \"Neo4J\"\n",
      "            ],\n",
      "            \"rdbms\": [\n",
      "                \"Mysql\",\n",
      "                \"PostgreSQL\",\n",
      "                \"Oracle\"\n",
      "            ]\n",
      "        }\n",
      "    }\n",
      "}\n"
     ]
    }
   ],
   "source": [
    "import json \n",
    "print(json.dumps(person, sort_keys=False, indent=4))"
   ]
  },
  {
   "cell_type": "code",
   "execution_count": null,
   "metadata": {},
   "outputs": [],
   "source": []
  }
 ],
 "metadata": {
  "kernelspec": {
   "display_name": "Python 3",
   "language": "python",
   "name": "python3"
  },
  "language_info": {
   "codemirror_mode": {
    "name": "ipython",
    "version": 3
   },
   "file_extension": ".py",
   "mimetype": "text/x-python",
   "name": "python",
   "nbconvert_exporter": "python",
   "pygments_lexer": "ipython3",
   "version": "3.10.9 (main, Dec 15 2022, 18:20:40) [Clang 13.0.0 (clang-1300.0.29.30)]"
  },
  "orig_nbformat": 4,
  "vscode": {
   "interpreter": {
    "hash": "aee8b7b246df8f9039afb4144a1f6fd8d2ca17a180786b69acc140d282b71a49"
   }
  }
 },
 "nbformat": 4,
 "nbformat_minor": 2
}
